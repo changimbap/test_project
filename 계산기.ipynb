{
 "cells": [
  {
   "cell_type": "code",
   "execution_count": 3,
   "id": "87a99a37-7ab0-42f0-8c51-c74a60069774",
   "metadata": {
    "scrolled": true
   },
   "outputs": [
    {
     "name": "stderr",
     "output_type": "stream",
     "text": [
      "23 DEPRECATION: Running PyInstaller as admin is not necessary nor sensible. Run PyInstaller from a non-administrator terminal. PyInstaller 7.0 will block this.\n",
      "220 INFO: PyInstaller: 6.14.2, contrib hooks: 2025.5\n",
      "220 INFO: Python: 3.9.23 (conda)\n",
      "226 INFO: Platform: Windows-10-10.0.26100-SP0\n",
      "226 INFO: Python environment: C:\\ProgramData\\anaconda3\\envs\\myenv\n",
      "227 INFO: wrote C:\\Users\\kccistc\\Desktop\\workspace\\계산기.spec\n",
      "235 INFO: Module search paths (PYTHONPATH):\n",
      "['C:\\\\ProgramData\\\\anaconda3\\\\envs\\\\myenv\\\\Scripts\\\\pyinstaller.exe',\n",
      " 'C:\\\\ProgramData\\\\anaconda3\\\\envs\\\\myenv\\\\python39.zip',\n",
      " 'C:\\\\ProgramData\\\\anaconda3\\\\envs\\\\myenv\\\\DLLs',\n",
      " 'C:\\\\ProgramData\\\\anaconda3\\\\envs\\\\myenv\\\\lib',\n",
      " 'C:\\\\ProgramData\\\\anaconda3\\\\envs\\\\myenv',\n",
      " 'C:\\\\ProgramData\\\\anaconda3\\\\envs\\\\myenv\\\\lib\\\\site-packages',\n",
      " 'C:\\\\ProgramData\\\\anaconda3\\\\envs\\\\myenv\\\\lib\\\\site-packages\\\\win32',\n",
      " 'C:\\\\ProgramData\\\\anaconda3\\\\envs\\\\myenv\\\\lib\\\\site-packages\\\\win32\\\\lib',\n",
      " 'C:\\\\ProgramData\\\\anaconda3\\\\envs\\\\myenv\\\\lib\\\\site-packages\\\\Pythonwin',\n",
      " 'C:\\\\ProgramData\\\\anaconda3\\\\envs\\\\myenv\\\\lib\\\\site-packages\\\\setuptools\\\\_vendor',\n",
      " 'C:\\\\Users\\\\kccistc\\\\Downloads']\n",
      "612 INFO: checking Analysis\n",
      "612 INFO: Building Analysis because Analysis-00.toc is non existent\n",
      "612 INFO: Running Analysis Analysis-00.toc\n",
      "612 INFO: Target bytecode optimization level: 0\n",
      "612 INFO: Initializing module dependency graph...\n",
      "612 INFO: Initializing module graph hook caches...\n",
      "625 INFO: Analyzing modules for base_library.zip ...\n",
      "1265 INFO: Processing standard module hook 'hook-encodings.py' from 'C:\\\\ProgramData\\\\anaconda3\\\\envs\\\\myenv\\\\lib\\\\site-packages\\\\PyInstaller\\\\hooks'\n",
      "2162 INFO: Processing standard module hook 'hook-pickle.py' from 'C:\\\\ProgramData\\\\anaconda3\\\\envs\\\\myenv\\\\lib\\\\site-packages\\\\PyInstaller\\\\hooks'\n",
      "2634 INFO: Processing standard module hook 'hook-heapq.py' from 'C:\\\\ProgramData\\\\anaconda3\\\\envs\\\\myenv\\\\lib\\\\site-packages\\\\PyInstaller\\\\hooks'\n",
      "2804 INFO: Caching module dependency graph...\n",
      "2830 INFO: Looking for Python shared library...\n",
      "2836 INFO: Using Python shared library: C:\\ProgramData\\anaconda3\\envs\\myenv\\python39.dll\n",
      "2836 INFO: Analyzing C:\\Users\\kccistc\\Downloads\\계산기.py\n",
      "2844 INFO: Processing module hooks (post-graph stage)...\n",
      "2848 INFO: Performing binary vs. data reclassification (1 entries)\n",
      "2849 INFO: Looking for ctypes DLLs\n",
      "2850 INFO: Analyzing run-time hooks ...\n",
      "2852 INFO: Creating base_library.zip...\n",
      "2898 INFO: Looking for dynamic libraries\n",
      "2948 INFO: Extra DLL search directories (AddDllDirectory): []\n",
      "2948 INFO: Extra DLL search directories (PATH): []\n",
      "3242 INFO: Warnings written to C:\\Users\\kccistc\\Desktop\\workspace\\build\\계산기\\warn-계산기.txt\n",
      "3253 INFO: Graph cross-reference written to C:\\Users\\kccistc\\Desktop\\workspace\\build\\계산기\\xref-계산기.html\n",
      "3265 INFO: checking PYZ\n",
      "3265 INFO: Building PYZ because PYZ-00.toc is non existent\n",
      "3265 INFO: Building PYZ (ZlibArchive) C:\\Users\\kccistc\\Desktop\\workspace\\build\\계산기\\PYZ-00.pyz\n",
      "3426 INFO: Building PYZ (ZlibArchive) C:\\Users\\kccistc\\Desktop\\workspace\\build\\계산기\\PYZ-00.pyz completed successfully.\n",
      "3434 INFO: checking PKG\n",
      "3434 INFO: Building PKG because PKG-00.toc is non existent\n",
      "3434 INFO: Building PKG (CArchive) 계산기.pkg\n",
      "4703 INFO: Building PKG (CArchive) 계산기.pkg completed successfully.\n",
      "4705 INFO: Bootloader C:\\ProgramData\\anaconda3\\envs\\myenv\\lib\\site-packages\\PyInstaller\\bootloader\\Windows-64bit-intel\\run.exe\n",
      "4705 INFO: checking EXE\n",
      "4705 INFO: Building EXE because EXE-00.toc is non existent\n",
      "4705 INFO: Building EXE from EXE-00.toc\n",
      "4705 INFO: Copying bootloader EXE to C:\\Users\\kccistc\\Desktop\\workspace\\dist\\계산기.exe\n",
      "4710 INFO: Copying icon to EXE\n",
      "4715 INFO: Copying 0 resources to EXE\n",
      "4715 INFO: Embedding manifest in EXE\n",
      "4718 INFO: Appending PKG archive to EXE\n",
      "4752 INFO: Fixing EXE headers\n",
      "6541 INFO: Building EXE from EXE-00.toc completed successfully.\n",
      "6543 INFO: Build complete! The results are available in: C:\\Users\\kccistc\\Desktop\\workspace\\dist\n"
     ]
    }
   ],
   "source": [
    "!pyinstaller --onefile ../../Downloads/계산기.py"
   ]
  },
  {
   "cell_type": "code",
   "execution_count": 2,
   "id": "1783975d-85a2-457c-a6ce-c67d6966f7b8",
   "metadata": {},
   "outputs": [
    {
     "name": "stdin",
     "output_type": "stream",
     "text": [
      "첫 번째 정수 입력:  10\n",
      "두 번째 정수 입력:  3\n"
     ]
    },
    {
     "name": "stdout",
     "output_type": "stream",
     "text": [
      "두 수의 합 : 13\n"
     ]
    }
   ],
   "source": [
    "import time\n",
    "num1 = int(input(\"첫 번째 정수 입력: \"))\n",
    "num2 = int(input(\"두 번째 정수 입력: \"))\n",
    "print(f\"두 수의 합 : {num1 + num2}\")"
   ]
  }
 ],
 "metadata": {
  "kernelspec": {
   "display_name": "Python 3 (ipykernel)",
   "language": "python",
   "name": "python3"
  },
  "language_info": {
   "codemirror_mode": {
    "name": "ipython",
    "version": 3
   },
   "file_extension": ".py",
   "mimetype": "text/x-python",
   "name": "python",
   "nbconvert_exporter": "python",
   "pygments_lexer": "ipython3",
   "version": "3.9.23"
  }
 },
 "nbformat": 4,
 "nbformat_minor": 5
}
