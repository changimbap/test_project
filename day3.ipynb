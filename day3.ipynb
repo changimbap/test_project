{
 "cells": [
  {
   "cell_type": "markdown",
   "id": "0cd14bca-ce55-45a3-8b45-6bb84949d1ca",
   "metadata": {},
   "source": [
    "# 정렬 알고리즘"
   ]
  },
  {
   "cell_type": "code",
   "execution_count": null,
   "id": "c0276748-0b58-4a3f-9b4b-6e275e3aa360",
   "metadata": {},
   "outputs": [],
   "source": [
    "# 버블 정렬( bubble sort)\n",
    "# 두 인접한 원소를 비교하여 \n",
    "# 오름차순 -> 큰 요소를 오른쪽으로\n",
    "# 내림차순 -> 작은 요소를 오른쪽으로"
   ]
  },
  {
   "cell_type": "code",
   "execution_count": 10,
   "id": "6da92006-fd81-43df-96ce-8563ee813b0b",
   "metadata": {},
   "outputs": [
    {
     "name": "stdout",
     "output_type": "stream",
     "text": [
      "[5, 7, 8, 12, 17, 27]\n"
     ]
    }
   ],
   "source": [
    "lotto = [8, 17, 12, 27 ,5, 7]\n",
    "# 오름차순 예상 결과\n",
    "# [5, 7, 8, 12, 17, 27]\n",
    "\n",
    "# 두 요소의 위치를 바꾼다 -> 치환\n",
    "\n",
    "for j in range(5, 0, -1):\n",
    "    for i in range(0, j, 1):\n",
    "        if lotto[i] > lotto[i + 1]:\n",
    "            temp = lotto[i]\n",
    "            lotto[i] = lotto[i + 1]\n",
    "            lotto[i + 1] = temp\n",
    "print(lotto)\n",
    "# # cycle 1\n",
    "\n",
    "# for i in range(0, 5, 1):\n",
    "#     if lotto[i] > lotto[i + 1]:\n",
    "#         temp = lotto[i]\n",
    "#         lotto[i] = lotto[i + 1]\n",
    "#         lotto[i + 1] = temp\n",
    "\n",
    "# print( \"cycle1:\", lotto)\n",
    "\n",
    "# #cyvle 2\n",
    "\n",
    "# for i in range(4):\n",
    "#     if lotto[i] > lotto[i + 1]:\n",
    "#         temp = lotto[i]\n",
    "#         lotto[i] = lotto[i + 1]\n",
    "#         lotto[i + 1] = temp\n",
    "        \n",
    "# print( \"cycle2:\", lotto)    \n",
    "\n",
    "# 시간복접도\n",
    "\n",
    "# 리스트 요소의 개수 : 6개\n",
    "# 첫 번째 사이클에서 5번 비교\n",
    "# 두 번째 사이클에서 4번 비교"
   ]
  },
  {
   "cell_type": "code",
   "execution_count": null,
   "id": "c829e062-84d2-454c-aed8-e1dca20c2096",
   "metadata": {},
   "outputs": [],
   "source": [
    "# 프로그래밍 언어에서 치환하기 위해선\n",
    "# 저장공간 1개가 필요하다"
   ]
  },
  {
   "cell_type": "code",
   "execution_count": 2,
   "id": "58d8023f-5330-4b8e-b82e-6e12694e0909",
   "metadata": {},
   "outputs": [
    {
     "name": "stdout",
     "output_type": "stream",
     "text": [
      "10 20\n",
      "20 10\n"
     ]
    }
   ],
   "source": [
    "a = 10\n",
    "b = 20\n",
    "print(a, b)\n",
    "a, b = b, a\n",
    "print(a, b)"
   ]
  },
  {
   "cell_type": "code",
   "execution_count": 19,
   "id": "c8415c9c-f10e-41f8-aad2-d33d714efe3f",
   "metadata": {},
   "outputs": [
    {
     "name": "stdout",
     "output_type": "stream",
     "text": [
      "[1, 2, 3, 4, 5]\n"
     ]
    }
   ],
   "source": [
    "# 버블 정렬로 \n",
    "# 오름차순 정렬해주세요\n",
    "exam = [5, 4, 3, 2, 1]\n",
    "\n",
    "for j in range(4, 0, -1):\n",
    "    for i in range(0, j, 1):\n",
    "        if exam[i] > exam[i + 1]:\n",
    "            temp = exam[i]\n",
    "            exam[i] = exam[i + 1]\n",
    "            exam[i + 1] = temp\n",
    "print(exam)"
   ]
  },
  {
   "cell_type": "code",
   "execution_count": 23,
   "id": "c76f10a1-020b-482c-a924-827b6edb8e3b",
   "metadata": {},
   "outputs": [
    {
     "name": "stdout",
     "output_type": "stream",
     "text": [
      "[7, 13, 24, 70, 98]\n"
     ]
    }
   ],
   "source": [
    "# 선택 정렬 (Selection Sort)\n",
    "array = [98, 7, 70, 13, 24]\n",
    "# 원하는 최종 결과 : [7, 13, 24, 70, 98]\n",
    "\n",
    "# # cycle 1\n",
    "# max_index = 0 # 가장 큰 값의 위치\n",
    "# max_value = 0 # 가장 큰 값\n",
    "\n",
    "# for i in range(5):\n",
    "#     if array[i] > max_value:\n",
    "#         max_value = array[i]\n",
    "#         max_index = i\n",
    "\n",
    "# # 첫 번째 탐색 후\n",
    "# # 가장 큰 요소랑 가장 오른쪽 값을 치환!!\n",
    "# temp = array[max_index]\n",
    "# array[max_index] = array[4]\n",
    "# array[4] = temp\n",
    "\n",
    "# print(array)\n",
    "\n",
    "# #가장 큰 요소가 가장 오른쪽으로 치환 했으니까 다음으로 넘어가서 그 다음 큰 요소가 오른쪽에서 두번째로 치환\n",
    "\n",
    "# max_index = 0\n",
    "# max_value = 0\n",
    "# for i in range(4):\n",
    "#     if array[i] > max_value:\n",
    "#         max_value = array[i]\n",
    "#         max_index = i\n",
    "\n",
    "# temp = array[max_index]\n",
    "# array[max_index] = array[3]\n",
    "# array[3] = temp\n",
    "\n",
    "# print(array)\n",
    "\n",
    "# cycle 2\n",
    "\n",
    "for j in range(5, 1, -1):\n",
    "        # cycle 1\n",
    "    max_index = 0 # 가장 큰 값의 위치\n",
    "    max_value = 0 # 가장 큰 값\n",
    "    \n",
    "    for i in range(j):\n",
    "        if array[i] > max_value:\n",
    "            max_value = array[i]\n",
    "            max_index = i\n",
    "    \n",
    "    # 첫 번째 탐색 후\n",
    "    # 가장 큰 요소랑 가장 오른쪽 값을 치환!!\n",
    "    temp = array[max_index]\n",
    "    array[max_index] = array[j - 1]\n",
    "    array[j - 1] = temp\n",
    "\n",
    "print(array)"
   ]
  },
  {
   "cell_type": "code",
   "execution_count": 30,
   "id": "ea69a5f5-42e0-4ba1-ac56-b43c578aa912",
   "metadata": {},
   "outputs": [
    {
     "name": "stdout",
     "output_type": "stream",
     "text": [
      "[1, 2, 3, 4, 5]\n"
     ]
    }
   ],
   "source": [
    "# 선택 정렬\n",
    "list1 = [5, 4, 3, 2, 1]\n",
    "\n",
    "# 선택정렬로 오름차순 진행 후\n",
    "# [1, 2, 3, 4, 5] 출력!11\n",
    "\n",
    "for j in range(len(list1), 1, -1):\n",
    "\n",
    "    max_index = 0 \n",
    "     \n",
    "    for i in range(j):\n",
    "        if list1[i] > list1[max_index]:\n",
    "            max_value = list1[i]\n",
    "            max_index = i\n",
    "    temp = list1[max_index]\n",
    "    list1[max_index] = list1[j - 1]\n",
    "    list1[j - 1] = temp\n",
    "print(list1)\n",
    "\n",
    "#step 1\n"
   ]
  },
  {
   "cell_type": "code",
   "execution_count": 36,
   "id": "a03b24d8-42a5-4a29-a92a-e3c71e8c9703",
   "metadata": {},
   "outputs": [
    {
     "data": {
      "text/plain": [
       "[56, 30, 70, 22, 82, 6, 59, 37, 77, 54]"
      ]
     },
     "execution_count": 36,
     "metadata": {},
     "output_type": "execute_result"
    }
   ],
   "source": [
    "import random\n",
    "list2 = []\n",
    "for _ in range(10):\n",
    "    list2.append(random.randint(1,100))\n",
    "\n",
    "list2 "
   ]
  },
  {
   "cell_type": "code",
   "execution_count": 37,
   "id": "50859a49-a091-425d-abc6-b990424be1ef",
   "metadata": {},
   "outputs": [
    {
     "data": {
      "text/plain": [
       "[6, 22, 30, 37, 54, 56, 59, 70, 77, 82]"
      ]
     },
     "execution_count": 37,
     "metadata": {},
     "output_type": "execute_result"
    }
   ],
   "source": [
    "list2.sort()\n",
    "list2"
   ]
  },
  {
   "cell_type": "code",
   "execution_count": null,
   "id": "c10aa8cb-435e-414a-9951-b3170ba641a6",
   "metadata": {},
   "outputs": [],
   "source": [
    "# Sequential Search\n",
    "# 정렬이 되어있지 않아도\n",
    "# 모든 값을 찾아보면 됨!\n",
    "# 길이가 길면 비효율적!"
   ]
  },
  {
   "cell_type": "code",
   "execution_count": null,
   "id": "047f1db3-d83b-460c-8ee2-dae8daf03ee7",
   "metadata": {},
   "outputs": [],
   "source": [
    "# Binary Search (이진 탐색)\n",
    "# list2 안에 70 값의 위치 찾기\n",
    "search = 70\n",
    "\n",
    "low_index = 0\n",
    "high_index = 9\n",
    "\n",
    "print(list2)\n",
    "\n",
    "# mid_index = (low_index + high_index) // 2\n",
    "# if search == list2[mid_index]:\n",
    "#     print(f\"찾고자 하는 값은 {mid_index}에 있습니다\")\n",
    "# elif search > list2[mid_index]:\n",
    "#     low_index = mid_index + 1\n",
    "# elif search < list2[mid_index]:\n",
    "#     high_index = mid_index - 1\n",
    "    \n",
    "# mid_index = (low_index + high_index) // 2\n",
    "\n",
    "# if search == list2[mid_index]:\n",
    "#     print(f\"찾고자 하는 값은 {mid_index}에 있습니다\")\n",
    "# elif search > list2[mid_index]:\n",
    "#     low_index = mid_index + 1\n",
    "# elif search < list2[mid_index]:\n",
    "#     high_index = mid_index - 1\n",
    "\n",
    "\n",
    "is_find = False # 찾으면 True, 못 찾으면 False\n",
    "\n",
    "# 몇번 반복하는지 모르기 때문에 while문 사용\n",
    "while True: # while low_index <= high_index 로 사용도 가능\n",
    "    mid_index = (low_index + high_index) // 2\n",
    "    if search == list2[mid_index]:\n",
    "        print(f\"찾고자 하는 값은 {mid_index}에 있습니다\")\n",
    "        is_find = True\n",
    "        break\n",
    "    elif search > list2[mid_index]:\n",
    "        low_index = mid_index + 1\n",
    "    elif search < list2[mid_index]:\n",
    "        high_index = mid_index - 1\n",
    "if not is_find:\n",
    "    print(\"찾고자 하는 값이 없습니다\")\n"
   ]
  },
  {
   "cell_type": "code",
   "execution_count": null,
   "id": "8111f6be-858b-4365-8eb1-b9b5affc48a0",
   "metadata": {},
   "outputs": [],
   "source": [
    "# 통신 시 data를 전송하기 위한 여러가지 방식\n",
    "# 1. CSV(Comma Separated Value)\n",
    "# 이름, 나이, MBTI\n",
    "# 정예찬, 26, ESFJ\n",
    "# 장점 : 비용이 적게 든다\n",
    "# 단점 : 약속이 잘 되어있어야 함. (아닐 시 어떤 데이터인지 잘 모름)\n",
    "\n",
    "# 2. XML (eXtensible Markup Language)\n",
    "# <이름>정예찬</이름>\n",
    "# <나이>26</나이>\n",
    "# <MBTI>ESFJ</MBTI>\n",
    "# 장점: 어떤 데이터인지 명확하게 알 수 있음!\n",
    "# 단점: 비용이 많이 듦\n",
    "\n",
    "# 3. JSON(JavaScript Object Notation)  -> python에서 dictionary 라고 불림\n",
    "# {\"이름\":\"정예찬\",\"나이\":26,\"MBTI\":\"ESFJ\"}\n",
    "# 특징 : 데이터도 알 수 있고 비용도 적당히 든다."
   ]
  },
  {
   "cell_type": "code",
   "execution_count": 44,
   "id": "1d3f604f-d912-4ce4-991e-215bb8db035c",
   "metadata": {},
   "outputs": [
    {
     "data": {
      "text/plain": [
       "{'이름': '정예찬', '나이': 26, 'MBTI': 'ESFJ'}"
      ]
     },
     "execution_count": 44,
     "metadata": {},
     "output_type": "execute_result"
    }
   ],
   "source": [
    "# Key:Value\n",
    "# Key-Value 쌍을 갖는 데이터다!!\n",
    "member = {\"이름\":\"정예찬\", \"나이\":26, \"MBTI\":\"ESFJ\"}\n",
    "member"
   ]
  },
  {
   "cell_type": "code",
   "execution_count": 51,
   "id": "32ca86f3-7999-4bac-9c03-a352e0bffcfa",
   "metadata": {},
   "outputs": [
    {
     "name": "stdout",
     "output_type": "stream",
     "text": [
      "26\n",
      "26\n"
     ]
    }
   ],
   "source": [
    "print(member[\"나이\"])\n",
    "print(member.get(\"나이\"))\n",
    "# print(member[\"몸무게\"])  -> 없는 Key 입력 시 Error\n",
    "# print(member.get(\"몸무게\")) -> 없는 Key 입력 시 None 반환"
   ]
  },
  {
   "cell_type": "code",
   "execution_count": 52,
   "id": "7ae0860c-6620-43e4-abbf-8fb5dfc7d13a",
   "metadata": {},
   "outputs": [
    {
     "data": {
      "text/plain": [
       "{'이름': '정예찬', '나이': 26, 'MBTI': 'ESFJ', '혈액형': 'O'}"
      ]
     },
     "execution_count": 52,
     "metadata": {},
     "output_type": "execute_result"
    }
   ],
   "source": [
    "# 딕셔너리에 값을 추가하는 방법\n",
    "member[\"혈액형\"] = \"O\"\n",
    "member"
   ]
  },
  {
   "cell_type": "code",
   "execution_count": 55,
   "id": "8f34e439-b1ab-476c-ab36-596f247d995f",
   "metadata": {},
   "outputs": [
    {
     "data": {
      "text/plain": [
       "{'노래제목': 'FAMOUS', '가수': 'ALLDAY PROJECT'}"
      ]
     },
     "execution_count": 55,
     "metadata": {},
     "output_type": "execute_result"
    }
   ],
   "source": [
    "dic_song = {\"노래제목\":\"FAMOUS\"}\n",
    "dic_song[\"가수\"] = \"ALLDAY PROJECT\"\n",
    "dic_song"
   ]
  },
  {
   "cell_type": "code",
   "execution_count": 56,
   "id": "e1bcea6f-6222-4ce5-8c57-0c10489f1c52",
   "metadata": {},
   "outputs": [
    {
     "data": {
      "text/plain": [
       "{'이름': '정예찬', '나이': 27, 'MBTI': 'ESFJ', '혈액형': 'O'}"
      ]
     },
     "execution_count": 56,
     "metadata": {},
     "output_type": "execute_result"
    }
   ],
   "source": [
    "member[\"나이\"] = 27\n",
    "member"
   ]
  },
  {
   "cell_type": "code",
   "execution_count": 57,
   "id": "5824aba9-8235-4ce4-9a1e-d2c856a98c48",
   "metadata": {},
   "outputs": [
    {
     "data": {
      "text/plain": [
       "{'이름': '정예찬', '나이': 27, 'MBTI': 'ESFJ'}"
      ]
     },
     "execution_count": 57,
     "metadata": {},
     "output_type": "execute_result"
    }
   ],
   "source": [
    "# 값 삭제\n",
    "del member[\"혈액형\"]\n",
    "member"
   ]
  },
  {
   "cell_type": "code",
   "execution_count": 58,
   "id": "ebefeaca-c075-43a7-9faa-cce1af0dca14",
   "metadata": {},
   "outputs": [
    {
     "data": {
      "text/plain": [
       "{}"
      ]
     },
     "execution_count": 58,
     "metadata": {},
     "output_type": "execute_result"
    }
   ],
   "source": [
    "# 값 전부 삭제\n",
    "member.clear()\n",
    "member"
   ]
  },
  {
   "cell_type": "markdown",
   "id": "8cf77d3a-91df-4c11-a9bd-826c5941f573",
   "metadata": {},
   "source": [
    "### 함수 (Function)"
   ]
  },
  {
   "cell_type": "code",
   "execution_count": 59,
   "id": "f60b7566-bedf-4897-98da-2c0ce97f5812",
   "metadata": {},
   "outputs": [
    {
     "name": "stdout",
     "output_type": "stream",
     "text": [
      "30\n",
      "50\n",
      "300\n",
      "370\n"
     ]
    }
   ],
   "source": [
    "print(10 + 20)\n",
    "print(20 + 30)\n",
    "print(100 + 200)\n",
    "print(300 + 70)"
   ]
  },
  {
   "cell_type": "code",
   "execution_count": 63,
   "id": "48b31451-e221-4d1f-8f74-15a8c6ce32ce",
   "metadata": {},
   "outputs": [
    {
     "name": "stdout",
     "output_type": "stream",
     "text": [
      "31\n",
      "51\n",
      "301\n",
      "371\n"
     ]
    }
   ],
   "source": [
    "# define\n",
    "# 매개변수(parameter) : 함수 내 정의된 변수!\n",
    "# def 함수명(매개변수):\n",
    "#     실행문장\n",
    "#     return A\n",
    "\n",
    "# 함수 정의부\n",
    "def add_two_number(num1, num2):\n",
    "    print(num1 + num2 + 1)\n",
    "\n",
    "# 함수 호출\n",
    "# 전달인자(argument) : 외부에서 정의된 함수로 전달하는 값!    \n",
    "# 함수명(전달인자)\n",
    "add_two_number(10, 20)\n",
    "add_two_number(20, 30)\n",
    "add_two_number(100, 200)\n",
    "add_two_number(300, 70)"
   ]
  },
  {
   "cell_type": "code",
   "execution_count": 64,
   "id": "62f60ead-5f86-462b-8f02-4ef07d696b4d",
   "metadata": {},
   "outputs": [
    {
     "name": "stdout",
     "output_type": "stream",
     "text": [
      "3001\n"
     ]
    }
   ],
   "source": [
    "add_two_number(1000, 2000)"
   ]
  },
  {
   "cell_type": "code",
   "execution_count": null,
   "id": "7078bf8e-d475-4855-b2fe-f8c2c4d36080",
   "metadata": {},
   "outputs": [],
   "source": [
    "# 내장함수, 외장함수, 사용자 정의함수\n",
    "# 내장함수 : print(), input()\n",
    "# 외장함수 : randint() 반드시 import 해야 쓸 수 있음\n",
    "# 사용자 정의 함수 : 내가 def을 정의한 함수"
   ]
  },
  {
   "cell_type": "code",
   "execution_count": 67,
   "id": "b0ccd0fd-d3e1-4e16-bae0-00d646c9ac8d",
   "metadata": {},
   "outputs": [
    {
     "name": "stdout",
     "output_type": "stream",
     "text": [
      "10\n",
      "100\n",
      "110\n"
     ]
    }
   ],
   "source": [
    "# 사용자 정의 함수 카테고리\n",
    "# 1. 매개변수 O, 리턴 값 O\n",
    "def bigger_two_number(num1, num2):\n",
    "    result = 0\n",
    "    if num1 > num2:\n",
    "        result = num1\n",
    "    else:\n",
    "        result = num2\n",
    "    return result\n",
    "\n",
    "print(bigger_two_number(5, 10))\n",
    "print(bigger_two_number(100, 50))\n",
    "print(bigger_two_number(5, 10) + bigger_two_number(100, 50))\n",
    "        "
   ]
  },
  {
   "cell_type": "code",
   "execution_count": 71,
   "id": "68b15e97-e162-46b9-a6b9-87763063fd06",
   "metadata": {},
   "outputs": [
    {
     "name": "stdout",
     "output_type": "stream",
     "text": [
      "A\n"
     ]
    }
   ],
   "source": [
    "# 학점 출력 함수\n",
    "# 90점 이상이면 A, 미만이면 F\n",
    "# 2. 매개변수 O, 리턴 값 X \n",
    "def print_grade(score):\n",
    "    if score >= 90:\n",
    "        print(\"A\")\n",
    "    else:\n",
    "        print(\"F\")\n",
    "print_grade(100)"
   ]
  },
  {
   "cell_type": "code",
   "execution_count": 73,
   "id": "99aeb6ad-a384-4217-942c-808a361d58cd",
   "metadata": {},
   "outputs": [
    {
     "name": "stdout",
     "output_type": "stream",
     "text": [
      "엘프는 귀엽다\n"
     ]
    }
   ],
   "source": [
    "# 3. 매개변수 X, 리턴 값 O\n",
    "# getter() 함수\n",
    "def get_name():\n",
    "    dog_name = \"엘프\"\n",
    "    return dog_name\n",
    "\n",
    "print(f\"{get_name()}는 귀엽다\")"
   ]
  },
  {
   "cell_type": "code",
   "execution_count": 74,
   "id": "950a1932-1d85-4128-880e-793c194598ee",
   "metadata": {},
   "outputs": [
    {
     "name": "stdout",
     "output_type": "stream",
     "text": [
      "오늘 서울은 하루종일 맑음\n"
     ]
    }
   ],
   "source": [
    "# 4. 매개변수 X, 리턴 값 X\n",
    "def today_weather():\n",
    "    print(\"오늘 서울은 하루종일 맑음\")\n",
    "\n",
    "today_weather()"
   ]
  },
  {
   "cell_type": "code",
   "execution_count": 75,
   "id": "647296fb-c853-4031-b5e6-8906e2d9a663",
   "metadata": {},
   "outputs": [
    {
     "name": "stdout",
     "output_type": "stream",
     "text": [
      "잘못 입력하셨습니다\n"
     ]
    }
   ],
   "source": [
    "def input_error_print():\n",
    "    print(\"잘못 입력하셨습니다\")\n",
    "\n",
    "input_error_print()"
   ]
  },
  {
   "cell_type": "code",
   "execution_count": 77,
   "id": "26d08859-e741-46d8-8695-9d6de5093d14",
   "metadata": {},
   "outputs": [
    {
     "data": {
      "text/plain": [
       "5"
      ]
     },
     "execution_count": 77,
     "metadata": {},
     "output_type": "execute_result"
    }
   ],
   "source": [
    "# DocString\n",
    "# Shift + Tab\n",
    "# 두 값의 차이를 절댓값으로 리턴\n",
    "def absolute_value(num1, num2):\n",
    "    \"\"\" 두 값의 차이를 절댓값으로 리턴하는 함수\"\"\"\n",
    "    if num1 > num2:\n",
    "        return num1 - num2\n",
    "    else:\n",
    "        return num2 - num1\n",
    "\n",
    "absolute_value(10, 5)"
   ]
  },
  {
   "cell_type": "code",
   "execution_count": 85,
   "id": "a973351f-041b-4101-a20f-675b0cd2ee96",
   "metadata": {},
   "outputs": [
    {
     "data": {
      "text/plain": [
       "True"
      ]
     },
     "execution_count": 85,
     "metadata": {},
     "output_type": "execute_result"
    }
   ],
   "source": [
    "# 1. 약수 여부를 판별하는 \n",
    "# is_divisor(num1, num2)\n",
    "# 만약, num2 가 num1 의 약수라면 True 리턴!\n",
    "# 약수가 아니라면 False 리턴\n",
    "\n",
    "def is_divisor(num1, num2):\n",
    "    \"\"\"뒤의 수가 앞의 수의 약수인지 판별하는 함수\"\"\"\n",
    "    if num1 % num2 == 0:\n",
    "        return True\n",
    "    else: \n",
    "        return False\n",
    "is_divisor(2727,3)\n",
    "\n",
    "# def is_divisor(num1, num2):\n",
    "#     return num1 % num2 == 0"
   ]
  },
  {
   "cell_type": "code",
   "execution_count": 102,
   "id": "63d58a6f-bdb0-495a-a3aa-30372696d352",
   "metadata": {},
   "outputs": [
    {
     "name": "stdout",
     "output_type": "stream",
     "text": [
      "10의 약수 : 1 2 5 10 \n",
      "1000의 약수 : 1 2 4 5 8 10 20 25 40 50 100 125 200 250 500 1000 \n"
     ]
    }
   ],
   "source": [
    "# 2. 모든 약수를 출력하는\n",
    "# print_divisors(num)\n",
    "# print_divisor(10) # 10의 약수 : 1 2 5 10\n",
    "# print_divisor(12) # 12의 약수 : 1 2 3 4 6 12\n",
    "\n",
    "def print_divisor(num1):\n",
    "    print(f\"{num1}의 약수 : \", end=\"\")\n",
    "    \n",
    "    for i in range(1, num1 + 1, 1): \n",
    "        if num1 % i == 0:\n",
    "            print(i, end=\" \")\n",
    "    print()\n",
    "print_divisor(10)\n",
    "print_divisor(1000)\n",
    "\n",
    "# def print_divisor(num1):\n",
    "#     print(f\"{num1}의 약수 : \", end=\"\")\n",
    "    \n",
    "#     for i in range(1, (num1 // 2) + 1, 1): \n",
    "#         if is_divisor(num1, i) == 0:\n",
    "#             print(i, end=\" \")\n",
    "#     print()"
   ]
  },
  {
   "cell_type": "code",
   "execution_count": 109,
   "id": "955cbe3d-261d-43d7-a35d-d8b859408c4c",
   "metadata": {},
   "outputs": [
    {
     "data": {
      "text/plain": [
       "18"
      ]
     },
     "execution_count": 109,
     "metadata": {},
     "output_type": "execute_result"
    }
   ],
   "source": [
    "# 3. 약수의 총합을 리턴하는\n",
    "# get_sum_of_divisors(num)\n",
    "# print(get_sum_of_divisors(10)) # 18\n",
    "# print(get_sum_of_divisors(12)) # 28\n",
    "\n",
    "def get_sum_of_divisors(num):\n",
    "    \"\"\"약수의 총합을 리턴하는 함수\"\"\"\n",
    "    result = 0\n",
    "\n",
    "    for i in range(1, num + 1, 1):\n",
    "        if num % i == 0:\n",
    "            result += i\n",
    "    return result\n",
    "    \n",
    "get_sum_of_divisors(10)\n"
   ]
  },
  {
   "cell_type": "code",
   "execution_count": 112,
   "id": "fa442b3c-eb73-4bc2-9ab6-1bb6a2685185",
   "metadata": {},
   "outputs": [
    {
     "data": {
      "text/plain": [
       "True"
      ]
     },
     "execution_count": 112,
     "metadata": {},
     "output_type": "execute_result"
    }
   ],
   "source": [
    "# 4. 완전수(Perfect Number)\n",
    "# 자기 자신을 제외한 약수의 합이\n",
    "# 자기 자신과 같을 때\n",
    "# 완전하다\n",
    "# 6 -> 1 2 3\n",
    "# 28 -> 1 2 3 7 14\n",
    "# is_perfect_number(num)\n",
    "# print(is_perfect_number(6)) # True\n",
    "# print(is_perfect_number(10)) # False\n",
    "# print(is_perfect_number(28)) # True\n",
    "\n",
    "def is_perfect_number(num):\n",
    "    gdof = get_sum_of_divisors(num)\n",
    "    if (num * 2) - gdof == 0:\n",
    "        return True\n",
    "    else:\n",
    "        return False\n",
    "\n",
    "is_perfect_number(6)\n",
    "\n",
    "    \n"
   ]
  },
  {
   "cell_type": "code",
   "execution_count": 116,
   "id": "12838734-290f-4064-b698-a440c63d4a42",
   "metadata": {},
   "outputs": [
    {
     "name": "stdout",
     "output_type": "stream",
     "text": [
      "6\n",
      "28\n",
      "496\n",
      "8128\n"
     ]
    }
   ],
   "source": [
    "# 5. is_perfect_number()를 활용하여 \n",
    "# 3번째 완전수 구해주세요\n",
    "# 힌트 : 2 ~ 1000 사이에 있습니다\n",
    "\n",
    "for i in range(2, 1001, 1):\n",
    "    if is_perfect_number(i):\n",
    "        print(i)\n",
    "# 4번째 완전수 구해주세요\n",
    "# 힌트 : 1000 ~ 10000 사이에 있습니다\n",
    "for i in range(1000, 10001, 1):\n",
    "    if is_perfect_number(i):\n",
    "        print(i)\n",
    "    "
   ]
  },
  {
   "cell_type": "code",
   "execution_count": 118,
   "id": "0350d219-0e4a-49f3-9749-fa7847b83a1b",
   "metadata": {},
   "outputs": [
    {
     "name": "stdout",
     "output_type": "stream",
     "text": [
      "(15, 5)\n"
     ]
    },
    {
     "data": {
      "text/plain": [
       "tuple"
      ]
     },
     "execution_count": 118,
     "metadata": {},
     "output_type": "execute_result"
    }
   ],
   "source": [
    "# 함수의 결과값은 항상 하나이다\n",
    "def exam2(num1, num2):\n",
    "    return num1 + num2, num1 - num2\n",
    "\n",
    "print(exam2(10,5))\n",
    "type(exam2(10,5))"
   ]
  },
  {
   "cell_type": "code",
   "execution_count": 119,
   "id": "533d0655-a0d4-4152-bf4f-a78f64e39fff",
   "metadata": {},
   "outputs": [
    {
     "data": {
      "text/plain": [
       "15"
      ]
     },
     "execution_count": 119,
     "metadata": {},
     "output_type": "execute_result"
    }
   ],
   "source": [
    "# 가변 매개변수\n",
    "def add_two_number(num1, num2):\n",
    "    return num1 + num2\n",
    "\n",
    "def add_three_number(num1, num2, num3):\n",
    "    return num1 + num2 + num3\n",
    "\n",
    "def add_number(*nums):\n",
    "    result = 0\n",
    "    for num in nums :\n",
    "        result += num\n",
    "    return result\n",
    "    \n",
    "add_number(1, 2, 3, 4, 5)"
   ]
  },
  {
   "cell_type": "code",
   "execution_count": null,
   "id": "b6bb3074-42b2-4c70-816d-bcc4b13a465b",
   "metadata": {},
   "outputs": [],
   "source": [
    "# \\ -> escape sequence \n",
    "# \\\" -> 문지\n",
    "# \\n -> 엔터치자\n",
    "# \\t -> 탭 치자\n",
    "# \\\\ -> 문자 \\ "
   ]
  },
  {
   "cell_type": "code",
   "execution_count": 121,
   "id": "c21beedb-2295-4c12-b3d8-c54793ca842d",
   "metadata": {},
   "outputs": [
    {
     "name": "stdout",
     "output_type": "stream",
     "text": [
      "32F\n"
     ]
    }
   ],
   "source": [
    "# 기본 값 설정\n",
    "def today_seoul_temp(unit=\"도\"):\n",
    "    print(f\"{32}{unit}\")\n",
    "\n",
    "today_seoul_temp(unit=\"F\")"
   ]
  },
  {
   "cell_type": "code",
   "execution_count": null,
   "id": "fc7a9b79-d9bc-4bba-a2e4-4e2a74d4b78b",
   "metadata": {},
   "outputs": [],
   "source": [
    "# C 언어에서\n",
    "# 정수형 연산 정수형 -> 정수형\n",
    "\n",
    "#Python 언어에서는 \n",
    "# 정수형 연산 정수형 -> 실수형"
   ]
  },
  {
   "cell_type": "code",
   "execution_count": 129,
   "id": "414b47ad-425c-4363-8ab6-08d9356c3510",
   "metadata": {},
   "outputs": [],
   "source": [
    "# 현재 day3.ipynb와 Cal.py가 같은 경로에 있는 상황\n",
    "# from -> py파일 호출하고\n",
    "# import -> 그 안에 있는 함수만 단독으로 load\n",
    "# as -> 별칭!\n",
    "# import Cal\n",
    "# from Cal import add_two_number\n",
    "from Cal import mul_two_number as mul"
   ]
  },
  {
   "cell_type": "code",
   "execution_count": 128,
   "id": "92e7b246-6ead-4439-912f-51f4dd5b8492",
   "metadata": {},
   "outputs": [
    {
     "name": "stdout",
     "output_type": "stream",
     "text": [
      "50\n"
     ]
    }
   ],
   "source": [
    "# print(Cal.add_two_number(10, 5))\n",
    "print(mul(10, 5))"
   ]
  },
  {
   "cell_type": "code",
   "execution_count": null,
   "id": "e2afa502-41b4-4b8a-9f61-caee6f17f071",
   "metadata": {},
   "outputs": [],
   "source": []
  },
  {
   "cell_type": "code",
   "execution_count": null,
   "id": "c459147b-41ff-431f-a42c-a5d29c009e90",
   "metadata": {},
   "outputs": [],
   "source": []
  },
  {
   "cell_type": "code",
   "execution_count": null,
   "id": "38162e36-3a25-4931-af86-cb317ede72ab",
   "metadata": {},
   "outputs": [],
   "source": []
  },
  {
   "cell_type": "code",
   "execution_count": null,
   "id": "e819e2c6-5c4a-48f1-b120-7138c385411e",
   "metadata": {},
   "outputs": [],
   "source": []
  }
 ],
 "metadata": {
  "kernelspec": {
   "display_name": "Python 3 (ipykernel)",
   "language": "python",
   "name": "python3"
  },
  "language_info": {
   "codemirror_mode": {
    "name": "ipython",
    "version": 3
   },
   "file_extension": ".py",
   "mimetype": "text/x-python",
   "name": "python",
   "nbconvert_exporter": "python",
   "pygments_lexer": "ipython3",
   "version": "3.9.23"
  }
 },
 "nbformat": 4,
 "nbformat_minor": 5
}
