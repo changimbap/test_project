{
 "cells": [
  {
   "cell_type": "code",
   "execution_count": null,
   "id": "17970588-0bb9-4b34-aaf8-5228c4c6ac59",
   "metadata": {},
   "outputs": [],
   "source": [
    "# 웹 스크래핑 (bs4 내의 Beautifulsoup)\n",
    "# 정적으로 웹 페이지의 정보를 받아옮\n",
    "#\n",
    "# 웹 크롤링\n",
    "# 동적으로 웹 페이지의 정보를 긁어옴"
   ]
  },
  {
   "cell_type": "code",
   "execution_count": 1,
   "id": "6eb3c372-9401-4aad-8a8c-73b63aacfec6",
   "metadata": {
    "scrolled": true
   },
   "outputs": [
    {
     "name": "stdout",
     "output_type": "stream",
     "text": [
      "Collecting selenium\n",
      "  Downloading selenium-4.34.2-py3-none-any.whl.metadata (7.5 kB)\n",
      "Requirement already satisfied: urllib3~=2.5.0 in c:\\programdata\\anaconda3\\envs\\myenv\\lib\\site-packages (from urllib3[socks]~=2.5.0->selenium) (2.5.0)\n",
      "Collecting trio~=0.30.0 (from selenium)\n",
      "  Downloading trio-0.30.0-py3-none-any.whl.metadata (8.5 kB)\n",
      "Collecting trio-websocket~=0.12.2 (from selenium)\n",
      "  Downloading trio_websocket-0.12.2-py3-none-any.whl.metadata (5.1 kB)\n",
      "Requirement already satisfied: certifi>=2025.6.15 in c:\\programdata\\anaconda3\\envs\\myenv\\lib\\site-packages (from selenium) (2025.6.15)\n",
      "Requirement already satisfied: typing_extensions~=4.14.0 in c:\\programdata\\anaconda3\\envs\\myenv\\lib\\site-packages (from selenium) (4.14.0)\n",
      "Requirement already satisfied: websocket-client~=1.8.0 in c:\\programdata\\anaconda3\\envs\\myenv\\lib\\site-packages (from selenium) (1.8.0)\n",
      "Requirement already satisfied: attrs>=23.2.0 in c:\\programdata\\anaconda3\\envs\\myenv\\lib\\site-packages (from trio~=0.30.0->selenium) (25.3.0)\n",
      "Collecting sortedcontainers (from trio~=0.30.0->selenium)\n",
      "  Downloading sortedcontainers-2.4.0-py2.py3-none-any.whl.metadata (10 kB)\n",
      "Requirement already satisfied: idna in c:\\programdata\\anaconda3\\envs\\myenv\\lib\\site-packages (from trio~=0.30.0->selenium) (3.10)\n",
      "Collecting outcome (from trio~=0.30.0->selenium)\n",
      "  Downloading outcome-1.3.0.post0-py2.py3-none-any.whl.metadata (2.6 kB)\n",
      "Requirement already satisfied: sniffio>=1.3.0 in c:\\programdata\\anaconda3\\envs\\myenv\\lib\\site-packages (from trio~=0.30.0->selenium) (1.3.1)\n",
      "Requirement already satisfied: cffi>=1.14 in c:\\programdata\\anaconda3\\envs\\myenv\\lib\\site-packages (from trio~=0.30.0->selenium) (1.17.1)\n",
      "Requirement already satisfied: exceptiongroup in c:\\programdata\\anaconda3\\envs\\myenv\\lib\\site-packages (from trio~=0.30.0->selenium) (1.3.0)\n",
      "Collecting wsproto>=0.14 (from trio-websocket~=0.12.2->selenium)\n",
      "  Downloading wsproto-1.2.0-py3-none-any.whl.metadata (5.6 kB)\n",
      "Collecting pysocks!=1.5.7,<2.0,>=1.5.6 (from urllib3[socks]~=2.5.0->selenium)\n",
      "  Downloading PySocks-1.7.1-py3-none-any.whl.metadata (13 kB)\n",
      "Requirement already satisfied: pycparser in c:\\programdata\\anaconda3\\envs\\myenv\\lib\\site-packages (from cffi>=1.14->trio~=0.30.0->selenium) (2.22)\n",
      "Requirement already satisfied: h11<1,>=0.9.0 in c:\\programdata\\anaconda3\\envs\\myenv\\lib\\site-packages (from wsproto>=0.14->trio-websocket~=0.12.2->selenium) (0.16.0)\n",
      "Downloading selenium-4.34.2-py3-none-any.whl (9.4 MB)\n",
      "   ---------------------------------------- 0.0/9.4 MB ? eta -:--:--\n",
      "   - -------------------------------------- 0.3/9.4 MB ? eta -:--:--\n",
      "   - -------------------------------------- 0.3/9.4 MB ? eta -:--:--\n",
      "   -- ------------------------------------- 0.5/9.4 MB 672.2 kB/s eta 0:00:14\n",
      "   -- ------------------------------------- 0.5/9.4 MB 672.2 kB/s eta 0:00:14\n",
      "   -- ------------------------------------- 0.5/9.4 MB 672.2 kB/s eta 0:00:14\n",
      "   --- ------------------------------------ 0.8/9.4 MB 516.5 kB/s eta 0:00:17\n",
      "   --- ------------------------------------ 0.8/9.4 MB 516.5 kB/s eta 0:00:17\n",
      "   --- ------------------------------------ 0.8/9.4 MB 516.5 kB/s eta 0:00:17\n",
      "   ---- ----------------------------------- 1.0/9.4 MB 488.8 kB/s eta 0:00:18\n",
      "   ---- ----------------------------------- 1.0/9.4 MB 488.8 kB/s eta 0:00:18\n",
      "   ----- ---------------------------------- 1.3/9.4 MB 501.0 kB/s eta 0:00:17\n",
      "   ----- ---------------------------------- 1.3/9.4 MB 501.0 kB/s eta 0:00:17\n",
      "   ------ --------------------------------- 1.6/9.4 MB 534.3 kB/s eta 0:00:15\n",
      "   ------ --------------------------------- 1.6/9.4 MB 534.3 kB/s eta 0:00:15\n",
      "   ------ --------------------------------- 1.6/9.4 MB 534.3 kB/s eta 0:00:15\n",
      "   ------ --------------------------------- 1.6/9.4 MB 534.3 kB/s eta 0:00:15\n",
      "   ------- -------------------------------- 1.8/9.4 MB 479.4 kB/s eta 0:00:16\n",
      "   ------- -------------------------------- 1.8/9.4 MB 479.4 kB/s eta 0:00:16\n",
      "   -------- ------------------------------- 2.1/9.4 MB 483.4 kB/s eta 0:00:16\n",
      "   -------- ------------------------------- 2.1/9.4 MB 483.4 kB/s eta 0:00:16\n",
      "   -------- ------------------------------- 2.1/9.4 MB 483.4 kB/s eta 0:00:16\n",
      "   ---------- ----------------------------- 2.4/9.4 MB 464.5 kB/s eta 0:00:16\n",
      "   ---------- ----------------------------- 2.4/9.4 MB 464.5 kB/s eta 0:00:16\n",
      "   ----------- ---------------------------- 2.6/9.4 MB 487.2 kB/s eta 0:00:14\n",
      "   ----------- ---------------------------- 2.6/9.4 MB 487.2 kB/s eta 0:00:14\n",
      "   ------------ --------------------------- 2.9/9.4 MB 490.6 kB/s eta 0:00:14\n",
      "   ------------ --------------------------- 2.9/9.4 MB 490.6 kB/s eta 0:00:14\n",
      "   ------------ --------------------------- 2.9/9.4 MB 490.6 kB/s eta 0:00:14\n",
      "   ------------- -------------------------- 3.1/9.4 MB 492.2 kB/s eta 0:00:13\n",
      "   -------------- ------------------------- 3.4/9.4 MB 509.8 kB/s eta 0:00:12\n",
      "   -------------- ------------------------- 3.4/9.4 MB 509.8 kB/s eta 0:00:12\n",
      "   --------------- ------------------------ 3.7/9.4 MB 518.1 kB/s eta 0:00:12\n",
      "   ---------------- ----------------------- 3.9/9.4 MB 543.7 kB/s eta 0:00:11\n",
      "   ---------------- ----------------------- 3.9/9.4 MB 543.7 kB/s eta 0:00:11\n",
      "   ----------------- ---------------------- 4.2/9.4 MB 549.5 kB/s eta 0:00:10\n",
      "   ------------------ --------------------- 4.5/9.4 MB 559.2 kB/s eta 0:00:09\n",
      "   -------------------- ------------------- 4.7/9.4 MB 577.4 kB/s eta 0:00:09\n",
      "   -------------------- ------------------- 4.7/9.4 MB 577.4 kB/s eta 0:00:09\n",
      "   --------------------- ------------------ 5.0/9.4 MB 576.4 kB/s eta 0:00:08\n",
      "   --------------------- ------------------ 5.0/9.4 MB 576.4 kB/s eta 0:00:08\n",
      "   --------------------- ------------------ 5.0/9.4 MB 576.4 kB/s eta 0:00:08\n",
      "   ---------------------- ----------------- 5.2/9.4 MB 574.4 kB/s eta 0:00:08\n",
      "   ---------------------- ----------------- 5.2/9.4 MB 574.4 kB/s eta 0:00:08\n",
      "   ---------------------- ----------------- 5.2/9.4 MB 574.4 kB/s eta 0:00:08\n",
      "   ----------------------- ---------------- 5.5/9.4 MB 564.0 kB/s eta 0:00:07\n",
      "   ------------------------ --------------- 5.8/9.4 MB 576.7 kB/s eta 0:00:07\n",
      "   ------------------------- -------------- 6.0/9.4 MB 589.6 kB/s eta 0:00:06\n",
      "   -------------------------- ------------- 6.3/9.4 MB 602.9 kB/s eta 0:00:06\n",
      "   --------------------------- ------------ 6.6/9.4 MB 611.1 kB/s eta 0:00:05\n",
      "   ---------------------------- ----------- 6.8/9.4 MB 622.3 kB/s eta 0:00:05\n",
      "   ------------------------------ --------- 7.1/9.4 MB 633.1 kB/s eta 0:00:04\n",
      "   ------------------------------- -------- 7.3/9.4 MB 647.1 kB/s eta 0:00:04\n",
      "   -------------------------------- ------- 7.6/9.4 MB 662.6 kB/s eta 0:00:03\n",
      "   --------------------------------- ------ 7.9/9.4 MB 674.8 kB/s eta 0:00:03\n",
      "   ----------------------------------- ---- 8.4/9.4 MB 700.0 kB/s eta 0:00:02\n",
      "   ------------------------------------ --- 8.7/9.4 MB 709.2 kB/s eta 0:00:02\n",
      "   ------------------------------------- -- 8.9/9.4 MB 722.8 kB/s eta 0:00:01\n",
      "   -------------------------------------- - 9.2/9.4 MB 732.3 kB/s eta 0:00:01\n",
      "   ---------------------------------------- 9.4/9.4 MB 737.4 kB/s eta 0:00:00\n",
      "Downloading trio-0.30.0-py3-none-any.whl (499 kB)\n",
      "Downloading trio_websocket-0.12.2-py3-none-any.whl (21 kB)\n",
      "Downloading PySocks-1.7.1-py3-none-any.whl (16 kB)\n",
      "Downloading outcome-1.3.0.post0-py2.py3-none-any.whl (10 kB)\n",
      "Downloading wsproto-1.2.0-py3-none-any.whl (24 kB)\n",
      "Downloading sortedcontainers-2.4.0-py2.py3-none-any.whl (29 kB)\n",
      "Installing collected packages: sortedcontainers, wsproto, pysocks, outcome, trio, trio-websocket, selenium\n",
      "\n",
      "   ---------------------- ----------------- 4/7 [trio]\n",
      "   ---------------------- ----------------- 4/7 [trio]\n",
      "   ---------------------------------- ----- 6/7 [selenium]\n",
      "   ---------------------------------- ----- 6/7 [selenium]\n",
      "   ---------------------------------- ----- 6/7 [selenium]\n",
      "   ---------------------------------- ----- 6/7 [selenium]\n",
      "   ---------------------------------- ----- 6/7 [selenium]\n",
      "   ---------------------------------- ----- 6/7 [selenium]\n",
      "   ---------------------------------------- 7/7 [selenium]\n",
      "\n",
      "Successfully installed outcome-1.3.0.post0 pysocks-1.7.1 selenium-4.34.2 sortedcontainers-2.4.0 trio-0.30.0 trio-websocket-0.12.2 wsproto-1.2.0\n"
     ]
    }
   ],
   "source": [
    "!pip3 install selenium"
   ]
  },
  {
   "cell_type": "code",
   "execution_count": null,
   "id": "efdecd7b-7592-4cbb-bb6e-61c83ee39409",
   "metadata": {},
   "outputs": [],
   "source": [
    "# 셀레니움\n",
    "import selenium\n",
    "\n",
    "from selenium import webdriver as wb # 브라우저 제어\n",
    "from selenium.webdriver.common.by import By # 선택자 구분\n",
    "from selenium.webdriver.common.keys import Keys # 키보드 제어\n",
    "import time # 시간 관련 라이브러리"
   ]
  },
  {
   "cell_type": "code",
   "execution_count": 9,
   "id": "27532c35-37a6-4b34-b825-48d8de5afc3a",
   "metadata": {},
   "outputs": [],
   "source": [
    "url_naver = \"https://www.naver.com\"\n",
    "driver = wb.Chrome()\n",
    "driver.get(url_naver)"
   ]
  },
  {
   "cell_type": "code",
   "execution_count": 16,
   "id": "a4df783e-2a4c-40fe-bc03-c1c8c4e988af",
   "metadata": {},
   "outputs": [],
   "source": [
    "search = driver.find_element(By.ID, \"query\")\n",
    "search.send_keys(\"화곡역 맛집\")\n",
    "search.send_keys(Keys.ENTER)\n",
    "time.sleep(3) # 코드를 3초 정도 지연\n",
    "driver.back()"
   ]
  },
  {
   "cell_type": "code",
   "execution_count": 18,
   "id": "b6c0544d-1087-4ed7-80a2-cb728af2be96",
   "metadata": {
    "scrolled": true
   },
   "outputs": [],
   "source": [
    "# 까치산역 맛집 검색 후 돋보기 버튼 클릭\n",
    "search = driver.find_element(By.ID, \"query\")\n",
    "search.send_keys(\"까치산역 맛집\")\n",
    "button = driver.find_element(By.ID, \"search-btn\")\n",
    "button.click()\n",
    "time.sleep(3)\n",
    "driver.back()"
   ]
  },
  {
   "cell_type": "code",
   "execution_count": 40,
   "id": "01a11246-3e69-4103-9805-21852b02eb85",
   "metadata": {},
   "outputs": [],
   "source": [
    "# 이미지 검색 후 관련 폴더에 다운로드\n",
    "url_image = \"https://search.naver.com/search.naver?where=image\"\n",
    "driver = wb.Chrome()\n",
    "driver.get(url_image)"
   ]
  },
  {
   "cell_type": "code",
   "execution_count": 41,
   "id": "57ef8690-fc00-4faf-b6ce-8842128fa0f5",
   "metadata": {},
   "outputs": [
    {
     "name": "stdin",
     "output_type": "stream",
     "text": [
      "검색할 키워드를 입력 : 그리즈만\n"
     ]
    },
    {
     "name": "stdout",
     "output_type": "stream",
     "text": [
      "폴더가 이미 존재합니다\n"
     ]
    }
   ],
   "source": [
    "keyword = input(\"검색할 키워드를 입력 :\")\n",
    "# 키워드 이름으로 폴더 하나 생성\n",
    "import os \n",
    "if not os.path.exists(keyword):\n",
    "    os.mkdir(keyword)\n",
    "    print(\"폴더 생성 완료\")\n",
    "else:\n",
    "    print(\"폴더가 이미 존재합니다\")"
   ]
  },
  {
   "cell_type": "code",
   "execution_count": 42,
   "id": "f15dbf35-56ec-43ba-9a2b-fa5fe52ccf03",
   "metadata": {},
   "outputs": [],
   "source": [
    "search_img = driver.find_element(By.ID, \"nx_query\")\n",
    "search_img.send_keys(keyword)\n",
    "search_img.send_keys(Keys.ENTER)\n",
    "time.sleep(3)"
   ]
  },
  {
   "cell_type": "code",
   "execution_count": 49,
   "id": "23be03a6-c8dd-406b-93c7-8b7877b33648",
   "metadata": {
    "scrolled": true
   },
   "outputs": [
    {
     "name": "stdout",
     "output_type": "stream",
     "text": [
      "그리즈만2.jpg 저장완료\n",
      "그리즈만3.jpg 저장완료\n",
      "그리즈만4.jpg 저장완료\n",
      "그리즈만5.jpg 저장완료\n",
      "그리즈만6.jpg 저장완료\n",
      "그리즈만7.jpg 저장완료\n",
      "그리즈만8.jpg 저장완료\n",
      "그리즈만9.jpg 저장완료\n",
      "그리즈만10.jpg 저장완료\n",
      "그리즈만11.jpg 저장완료\n",
      "그리즈만12.jpg 저장완료\n",
      "그리즈만13.jpg 저장완료\n",
      "그리즈만14.jpg 저장완료\n",
      "그리즈만15.jpg 저장완료\n",
      "그리즈만16.jpg 저장완료\n",
      "그리즈만17.jpg 저장완료\n",
      "그리즈만18.jpg 저장완료\n",
      "그리즈만19.jpg 저장완료\n",
      "그리즈만20.jpg 저장완료\n",
      "그리즈만21.jpg 저장완료\n",
      "그리즈만22.jpg 저장완료\n",
      "그리즈만23.jpg 저장완료\n",
      "그리즈만24.jpg 저장완료\n",
      "그리즈만25.jpg 저장완료\n",
      "그리즈만26.jpg 저장완료\n",
      "그리즈만27.jpg 저장완료\n",
      "그리즈만28.jpg 저장완료\n",
      "그리즈만29.jpg 저장완료\n"
     ]
    }
   ],
   "source": [
    "driver.find_elements(By.TAG_NAME, \"img\")\n",
    "for i, img in enumerate(img_list):\n",
    "    img_url = img.get_attribute(\"src\")\n",
    "    if img_url[:4] == \"data\":\n",
    "        continue\n",
    "\n",
    "    response = requests.get(img_url)\n",
    "    img_data = response.content\n",
    "    img_path = f\"{keyword}/{keyword}{i}.jpg\"\n",
    "    with open(img_path, \"wb\") as file:\n",
    "        file.write(img_data)\n",
    "        print(f\"{keyword}{i}.jpg 저장완료\")"
   ]
  },
  {
   "cell_type": "code",
   "execution_count": 46,
   "id": "a300a3da-211c-4643-b2d1-ec9b03c3dd3d",
   "metadata": {},
   "outputs": [],
   "source": [
    "# 1. 이미지는 경로가 존재한다\n",
    "# By.ID -> id로 찾기, By.TAG_NAME -> 태그명으로 찾기\n",
    "# By.CLASS_NAME -> class명으로 찾기\n",
    "# By.CSS_SELECTOR -> 선택자로 찾기 가능\n",
    "img_list = driver.find_elements(By.TAG_NAME, \"img\")\n",
    "# img 태그 안에 있는 src 속성의 값!\n",
    "\n",
    "# 시작 문자열이 data가 아닌\n",
    "# data -> base64 -> 디코딩 ->\n",
    "img_url = img_list[8].get_attribute(\"src\")"
   ]
  },
  {
   "cell_type": "code",
   "execution_count": 47,
   "id": "fa722634-497d-49a5-9268-4e396df3fae8",
   "metadata": {},
   "outputs": [
    {
     "name": "stdout",
     "output_type": "stream",
     "text": [
      "그리즈만1.jpg 저장 완료\n"
     ]
    }
   ],
   "source": [
    "import requests # 요청 관련 라이브러리\n",
    "response = requests.get(img_url)\n",
    "img_data = response.content\n",
    "img_path = f\"{keyword}/{keyword}{1}.jpg\"\n",
    "with open(img_path, \"wb\") as file:\n",
    "    file.write(img_data)\n",
    "    print(f\"{keyword}{1}.jpg 저장 완료\")"
   ]
  },
  {
   "cell_type": "code",
   "execution_count": 50,
   "id": "dd3f06a9-45b2-4371-b266-4fa9afadb51c",
   "metadata": {},
   "outputs": [],
   "source": [
    "driver.close()"
   ]
  },
  {
   "cell_type": "code",
   "execution_count": null,
   "id": "c82afb74-6684-467a-9eb5-5850d2c9ce12",
   "metadata": {},
   "outputs": [],
   "source": [
    "# 1. selenium 관련 된 라이브러리 import(3개)\n",
    "# 2. time 라이브러리 import\n",
    "# 3. os 라이브러리, requests 라이브러리 import\n",
    "# 4. 네이버 이미지 검색 url 활용해 \"https://search.naver.com/search.naver?where=image\"\n",
    "# 5. 사용자로부터 검색할 키워드 입력 받아 keyword 저장\n",
    "# 6. 폴더를 만들자 (단, 폴더가 없다면)\n",
    "# 7. wb 활용해서 Chrome 켜고\n",
    "# 8. 사용자가 입력한 keyword 를 던져서 이미지 검색\n",
    "# 9. 나온 이미지 들을 find_elements를 통해 list로 저장\n",
    "# 10. for문을 돌면서 이미지 주소를 가져오고\n",
    "# 11. 해당 이미지 주소가 data로 시작이 안된다면\n",
    "# 12. requests를 통해 요청\n",
    "# 13. 응답된 결과를 response를 통해 byte 형태로 받자(content)\n",
    "# 14. with ~ open(경로, \"wb\")를 통해 key 폴더에 이미지를 저장하자\n",
    "# 15. driver.close()"
   ]
  },
  {
   "cell_type": "code",
   "execution_count": 52,
   "id": "e70befee-ccbc-4912-a6e3-b72b5026ff5c",
   "metadata": {
    "scrolled": true
   },
   "outputs": [
    {
     "name": "stdin",
     "output_type": "stream",
     "text": [
      "검색할 키워드를 입력 : 아이들 미연\n"
     ]
    },
    {
     "name": "stdout",
     "output_type": "stream",
     "text": [
      "폴더가 이미 존재합니다\n",
      "아이들 미연2.jpg 저장완료\n",
      "아이들 미연3.jpg 저장완료\n",
      "아이들 미연4.jpg 저장완료\n",
      "아이들 미연5.jpg 저장완료\n",
      "아이들 미연6.jpg 저장완료\n",
      "아이들 미연7.jpg 저장완료\n",
      "아이들 미연8.jpg 저장완료\n",
      "아이들 미연9.jpg 저장완료\n",
      "아이들 미연10.jpg 저장완료\n",
      "아이들 미연11.jpg 저장완료\n",
      "아이들 미연12.jpg 저장완료\n",
      "아이들 미연13.jpg 저장완료\n",
      "아이들 미연14.jpg 저장완료\n",
      "아이들 미연15.jpg 저장완료\n",
      "아이들 미연16.jpg 저장완료\n",
      "아이들 미연17.jpg 저장완료\n",
      "아이들 미연18.jpg 저장완료\n",
      "아이들 미연19.jpg 저장완료\n",
      "아이들 미연20.jpg 저장완료\n",
      "아이들 미연21.jpg 저장완료\n",
      "아이들 미연22.jpg 저장완료\n",
      "아이들 미연23.jpg 저장완료\n",
      "아이들 미연24.jpg 저장완료\n",
      "아이들 미연25.jpg 저장완료\n",
      "아이들 미연26.jpg 저장완료\n",
      "아이들 미연27.jpg 저장완료\n",
      "아이들 미연28.jpg 저장완료\n",
      "아이들 미연29.jpg 저장완료\n",
      "아이들 미연30.jpg 저장완료\n",
      "아이들 미연31.jpg 저장완료\n",
      "아이들 미연32.jpg 저장완료\n",
      "아이들 미연33.jpg 저장완료\n",
      "아이들 미연34.jpg 저장완료\n",
      "아이들 미연35.jpg 저장완료\n",
      "아이들 미연36.jpg 저장완료\n",
      "아이들 미연37.jpg 저장완료\n",
      "아이들 미연38.jpg 저장완료\n",
      "아이들 미연39.jpg 저장완료\n",
      "아이들 미연40.jpg 저장완료\n",
      "아이들 미연41.jpg 저장완료\n",
      "아이들 미연42.jpg 저장완료\n",
      "아이들 미연43.jpg 저장완료\n"
     ]
    }
   ],
   "source": [
    "# 1. selenium 관련 된 라이브러리 import(3개)\n",
    "from selenium import webdriver as wb # 브라우저 제어\n",
    "from selenium.webdriver.common.by import By # 선택자 구분\n",
    "from selenium.webdriver.common.keys import Keys # 키보드 제어\n",
    "\n",
    "# 2. time 라이브러리 import\n",
    "import time\n",
    "\n",
    "# 3. os 라이브러리, requests 라이브러리 import\n",
    "import os\n",
    "import requests\n",
    "\n",
    "# 4. 네이버 이미지 검색 url 활용해 \"https://search.naver.com/search.naver?where=image\"\n",
    "url_image = \"https://search.naver.com/search.naver?where=image\"\n",
    "\n",
    "# 5. 사용자로부터 검색할 키워드 입력 받아 keyword 저장\n",
    "keyword = input(\"검색할 키워드를 입력 :\")\n",
    "\n",
    "# 6. 폴더를 만들자 (단, 폴더가 없다면)\n",
    "if not os.path.exists(keyword):\n",
    "    os.mkdir(keyword)\n",
    "    print(\"폴더 생성 완료\")\n",
    "else:\n",
    "    print(\"폴더가 이미 존재합니다\")\n",
    "# 7. wb 활용해서 Chrome 켜고\n",
    "driver = wb.Chrome()\n",
    "driver.get(url_image)\n",
    "\n",
    "# 8. 사용자가 입력한 keyword 를 던져서 이미지 검색\n",
    "search_img = driver.find_element(By.ID, \"nx_query\")\n",
    "search_img.send_keys(keyword)\n",
    "search_img.send_keys(Keys.ENTER)\n",
    "time.sleep(5) # 이미지 로딩시간\n",
    "\n",
    "# 9. 나온 이미지 들을 find_elements를 통해 list로 저장\n",
    "img_list = driver.find_elements(By.TAG_NAME, \"img\")\n",
    "\n",
    "# 10. for문을 돌면서 이미지 주소를 가져오고\n",
    "for i, img in enumerate(img_list):\n",
    "    img_url = img.get_attribute(\"src\")\n",
    "    \n",
    "    # 11. 해당 이미지 주소가 data로 시작이 안된다면\n",
    "    if img_url[:4] == \"data\":\n",
    "        continue\n",
    "        \n",
    "    # 12. requests를 통해 요청\n",
    "    response = requests.get(img_url)\n",
    "    \n",
    "    # 13. 응답된 결과를 response를 통해 byte 형태로 받자(content)\n",
    "    img_data = response.content\n",
    "        \n",
    "    # 14. with ~ open(경로, \"wb\")를 통해 key 폴더에 이미지를 저장하자\n",
    "    img_path = f\"{keyword}/{keyword}{i}.jpg\"\n",
    "    with open(img_path, \"wb\") as file:\n",
    "        file.write(img_data)\n",
    "        print(f\"{keyword}{i}.jpg 저장완료\")\n",
    "# 15. driver.close()\n",
    "driver.close()"
   ]
  },
  {
   "cell_type": "code",
   "execution_count": 88,
   "id": "ea518a57-5d90-4ae4-a407-2318ba1d792b",
   "metadata": {},
   "outputs": [],
   "source": [
    "# 포켓몬 도감을 만들어 보자\n",
    "url_pokemon = \"https://pokemonkorea.co.kr/pokedex\"\n",
    "driver = wb.Chrome()\n",
    "driver.maximize_window()\n",
    "driver.get(url_pokemon)"
   ]
  },
  {
   "cell_type": "code",
   "execution_count": 89,
   "id": "f042099f-6f12-4486-849d-b3c71774d47b",
   "metadata": {},
   "outputs": [],
   "source": [
    "# 1. 이상해씨를 클릭\n",
    "img = driver.find_element(By.CLASS_NAME, \"img-fluid\")\n",
    "img.click()\n",
    "time.sleep(0.5)"
   ]
  },
  {
   "cell_type": "code",
   "execution_count": 82,
   "id": "f8e29fc2-4842-47a7-b3d9-f3ca12b35565",
   "metadata": {},
   "outputs": [
    {
     "name": "stdout",
     "output_type": "stream",
     "text": [
      "0.7m\n",
      "씨앗포켓몬\n",
      "6.9kg\n",
      "\n"
     ]
    },
    {
     "data": {
      "text/plain": [
       "'https://data1.pokemonkorea.co.kr/newdata/pokedex/full/000101.png'"
      ]
     },
     "execution_count": 82,
     "metadata": {},
     "output_type": "execute_result"
    }
   ],
   "source": [
    "# 포켓몬 이름\n",
    "# 이상해씨 기준\n",
    "# 타입 : 풀, 독\n",
    "# 키 : 0.7\n",
    "# 분류 : 씨앗포켓몬\n",
    "# 몸무게 : 6.9kg\n",
    "h3 = driver.find_element(By.TAG_NAME, \"h3\")\n",
    "pokemon_name = h3.text.split(\"\\n\")[1]\n",
    "pokemon_name\n",
    "\n",
    "# 풀, 독 가져오기\n",
    "# 풀독\n",
    "pokemon_type = \"\"\n",
    "p_list = driver.find_elements(By.CSS_SELECTOR, \".img-type>p\")\n",
    "for p in p_list:\n",
    "    pokemon_type += p.text\n",
    "\n",
    "pokemon_type\n",
    "\n",
    "# 키 가져오기\n",
    "mb_3 = driver.find_elements(By.CSS_SELECTOR, \"h4.mb-3+p\")\n",
    "for mb in mb_3:\n",
    "    print(mb.text)\n",
    "\n",
    "pokemon_height = mb_3[0].text\n",
    "pokemon_category = mb_3[1].text\n",
    "pokemon_weight = mb_3[2].text\n",
    "pokemon_img_url = driver.find_element(By.CSS_SELECTOR, \".col-lg-6>img\").get_attribute(\"src\")\n",
    "pokemon_img_url"
   ]
  },
  {
   "cell_type": "code",
   "execution_count": 8,
   "id": "e45ba9d4-b8bb-451c-b707-75fb770eb6b8",
   "metadata": {},
   "outputs": [],
   "source": [
    "# 151마리 포켓몬 도감 완성을 위한 여정\n",
    "\n",
    "# 1. 저장할 자료형(VO) 정의\n",
    "\n",
    "class Pokemon:\n",
    "    def __init__(self, pokemon_name,\n",
    "                pokemon_type,\n",
    "                pokemon_height,\n",
    "                pokemon_category,\n",
    "                pokemon_weight,\n",
    "                pokemon_img_url):\n",
    "\n",
    "        self.pokemon_name = pokemon_name\n",
    "        self.pokemon_type = pokemon_type\n",
    "        self.pokemon_height = pokemon_height\n",
    "        self.pokemon_category = pokemon_category\n",
    "        self.pokemon_weight = pokemon_weight\n",
    "        self.pokemon_img_url = pokemon_img_url\n",
    "\n",
    "    def get_pokemon_img_url(self):\n",
    "        return self.pokemon_img_url\n",
    "        \n",
    "    def __str__(self):\n",
    "        return f\"이름 : {self.pokemon_name} / 타입 : {self.pokemon_type}\\n키 : {self.pokemon_height} / 분류 : {self.pokemon_catogory} / 몸무게 : {self.pokemon_weight} / 사진 : {self.pokemon_img_url}\""
   ]
  },
  {
   "cell_type": "code",
   "execution_count": 10,
   "id": "7fdc18c9-d1de-4ebb-ac97-e795637ee68d",
   "metadata": {},
   "outputs": [],
   "source": [
    "# 0. 관련 라이브러리 전부 import\n",
    "\n",
    "from selenium import webdriver as wb\n",
    "from selenium.webdriver.common.by import By\n",
    "from selenium.webdriver.common.keys import Keys\n",
    "import time\n",
    "import requests\n",
    "import os\n",
    "\n",
    "# 2. 포켓몬 도감 url을 통해\n",
    "# 새로운 자동화된 창을 최대크기로 띄우자\n",
    "\n",
    "url_pokemon = \"https://pokemonkorea.co.kr/pokedex\"\n",
    "driver = wb.Chrome()      # Chrome 브라우저 사용\n",
    "driver.maximize_window()  # 창을 최대 크기로\n",
    "driver.get(url_pokemon)   # 포켓몬 도감 url 띄우기\n",
    "time.sleep(1)\n",
    "pokemon_list = [] # 포켓몬 인스턴스들이 담길 리스트\n",
    "delay = 0.2\n",
    "\n",
    "# 이상해씨 클릭 전에\n",
    "# 적당히 \"END\"키를 눌러\n",
    "# 포켓몬 이미지 개수를 늘려놓자\n",
    "\n",
    "# html ~ head ~ body ~\n",
    "for _ in range(10):\n",
    "    body = driver.find_element(By.TAG_NAME, \"body\")\n",
    "    body.send_keys(Keys.END)\n",
    "    time.sleep(delay)\n",
    "\n",
    "img_list = driver.find_elements(By.CLASS_NAME, \"img-fluid\")\n",
    "for i in range(len(img_list)):\n",
    "    for _ in range(10):\n",
    "        body = driver.find_element(By.TAG_NAME, \"body\")\n",
    "        body.send_keys(Keys.END)\n",
    "        time.sleep(delay)\n",
    "\n",
    "    img_list = driver.find_elements(By.CLASS_NAME, \"img-fluid\")\n",
    "    img_list[i].click()\n",
    "    \n",
    "    time.sleep(delay)\n",
    "\n",
    "    h3 = driver.find_element(By.TAG_NAME, \"h3\")\n",
    "    pokemon_name = h3.text.split(\"\\n\")[1]\n",
    "    pokemon_type = \"\"\n",
    "    p_list = driver.find_elements(By.CSS_SELECTOR, \".img-type>p\")\n",
    "\n",
    "    for p in p_list:\n",
    "        pokemon_type += p.text\n",
    "        \n",
    "    mb_3 = driver.find_elements(By.CSS_SELECTOR, \"h4.mb-3+p\")\n",
    "    pokemon_height = mb_3[0].text   # 키\n",
    "    pokemon_catogory = mb_3[1].text # 분류\n",
    "    pokemon_weight = mb_3[2].text   # 몸무게\n",
    "    pokemon_img_url = driver.find_element(By.CSS_SELECTOR, \".col-lg-6>img\").get_attribute(\"src\")\n",
    "    \n",
    "    pokemon = Pokemon(pokemon_name, pokemon_type, pokemon_height, pokemon_catogory, pokemon_weight, pokemon_img_url)\n",
    "    pokemon_list.append(pokemon)\n",
    "    \n",
    "    driver.back()   \n",
    "    time.sleep(delay)\n",
    "\n",
    "driver.close()"
   ]
  },
  {
   "cell_type": "code",
   "execution_count": 13,
   "id": "bc89cbca-5e21-472b-b71a-541a21a9a52b",
   "metadata": {},
   "outputs": [
    {
     "data": {
      "text/plain": [
       "108"
      ]
     },
     "execution_count": 13,
     "metadata": {},
     "output_type": "execute_result"
    }
   ],
   "source": [
    "len(pokemon_list)"
   ]
  },
  {
   "cell_type": "code",
   "execution_count": 15,
   "id": "46572c86-6a0e-439c-ae58-e6268b4ee39b",
   "metadata": {
    "scrolled": true
   },
   "outputs": [
    {
     "name": "stdout",
     "output_type": "stream",
     "text": [
      "폴더 생성 완료\n",
      "pokemon1.jpg 저장 완료\n",
      "pokemon2.jpg 저장 완료\n",
      "pokemon3.jpg 저장 완료\n",
      "pokemon4.jpg 저장 완료\n",
      "pokemon5.jpg 저장 완료\n",
      "pokemon6.jpg 저장 완료\n",
      "pokemon7.jpg 저장 완료\n",
      "pokemon8.jpg 저장 완료\n",
      "pokemon9.jpg 저장 완료\n",
      "pokemon10.jpg 저장 완료\n",
      "pokemon11.jpg 저장 완료\n",
      "pokemon12.jpg 저장 완료\n",
      "pokemon13.jpg 저장 완료\n",
      "pokemon14.jpg 저장 완료\n",
      "pokemon15.jpg 저장 완료\n",
      "pokemon16.jpg 저장 완료\n",
      "pokemon17.jpg 저장 완료\n",
      "pokemon18.jpg 저장 완료\n",
      "pokemon19.jpg 저장 완료\n",
      "pokemon20.jpg 저장 완료\n",
      "pokemon21.jpg 저장 완료\n",
      "pokemon22.jpg 저장 완료\n",
      "pokemon23.jpg 저장 완료\n",
      "pokemon24.jpg 저장 완료\n",
      "pokemon25.jpg 저장 완료\n",
      "pokemon26.jpg 저장 완료\n",
      "pokemon27.jpg 저장 완료\n",
      "pokemon28.jpg 저장 완료\n",
      "pokemon29.jpg 저장 완료\n",
      "pokemon30.jpg 저장 완료\n",
      "pokemon31.jpg 저장 완료\n",
      "pokemon32.jpg 저장 완료\n",
      "pokemon33.jpg 저장 완료\n",
      "pokemon34.jpg 저장 완료\n",
      "pokemon35.jpg 저장 완료\n",
      "pokemon36.jpg 저장 완료\n",
      "pokemon37.jpg 저장 완료\n",
      "pokemon38.jpg 저장 완료\n",
      "pokemon39.jpg 저장 완료\n",
      "pokemon40.jpg 저장 완료\n",
      "pokemon41.jpg 저장 완료\n",
      "pokemon42.jpg 저장 완료\n",
      "pokemon43.jpg 저장 완료\n",
      "pokemon44.jpg 저장 완료\n",
      "pokemon45.jpg 저장 완료\n",
      "pokemon46.jpg 저장 완료\n",
      "pokemon47.jpg 저장 완료\n",
      "pokemon48.jpg 저장 완료\n",
      "pokemon49.jpg 저장 완료\n",
      "pokemon50.jpg 저장 완료\n",
      "pokemon51.jpg 저장 완료\n",
      "pokemon52.jpg 저장 완료\n",
      "pokemon53.jpg 저장 완료\n",
      "pokemon54.jpg 저장 완료\n",
      "pokemon55.jpg 저장 완료\n",
      "pokemon56.jpg 저장 완료\n",
      "pokemon57.jpg 저장 완료\n",
      "pokemon58.jpg 저장 완료\n",
      "pokemon59.jpg 저장 완료\n",
      "pokemon60.jpg 저장 완료\n",
      "pokemon61.jpg 저장 완료\n",
      "pokemon62.jpg 저장 완료\n",
      "pokemon63.jpg 저장 완료\n",
      "pokemon64.jpg 저장 완료\n",
      "pokemon65.jpg 저장 완료\n",
      "pokemon66.jpg 저장 완료\n",
      "pokemon67.jpg 저장 완료\n",
      "pokemon68.jpg 저장 완료\n",
      "pokemon69.jpg 저장 완료\n",
      "pokemon70.jpg 저장 완료\n",
      "pokemon71.jpg 저장 완료\n",
      "pokemon72.jpg 저장 완료\n",
      "pokemon73.jpg 저장 완료\n",
      "pokemon74.jpg 저장 완료\n",
      "pokemon75.jpg 저장 완료\n",
      "pokemon76.jpg 저장 완료\n",
      "pokemon77.jpg 저장 완료\n",
      "pokemon78.jpg 저장 완료\n",
      "pokemon79.jpg 저장 완료\n",
      "pokemon80.jpg 저장 완료\n",
      "pokemon81.jpg 저장 완료\n",
      "pokemon82.jpg 저장 완료\n",
      "pokemon83.jpg 저장 완료\n",
      "pokemon84.jpg 저장 완료\n",
      "pokemon85.jpg 저장 완료\n",
      "pokemon86.jpg 저장 완료\n",
      "pokemon87.jpg 저장 완료\n",
      "pokemon88.jpg 저장 완료\n",
      "pokemon89.jpg 저장 완료\n",
      "pokemon90.jpg 저장 완료\n",
      "pokemon91.jpg 저장 완료\n",
      "pokemon92.jpg 저장 완료\n",
      "pokemon93.jpg 저장 완료\n",
      "pokemon94.jpg 저장 완료\n",
      "pokemon95.jpg 저장 완료\n",
      "pokemon96.jpg 저장 완료\n",
      "pokemon97.jpg 저장 완료\n",
      "pokemon98.jpg 저장 완료\n",
      "pokemon99.jpg 저장 완료\n",
      "pokemon100.jpg 저장 완료\n",
      "pokemon101.jpg 저장 완료\n",
      "pokemon102.jpg 저장 완료\n",
      "pokemon103.jpg 저장 완료\n",
      "pokemon104.jpg 저장 완료\n",
      "pokemon105.jpg 저장 완료\n",
      "pokemon106.jpg 저장 완료\n",
      "pokemon107.jpg 저장 완료\n",
      "pokemon108.jpg 저장 완료\n"
     ]
    }
   ],
   "source": [
    "if not os.path.exists(\"pokemon\"):\n",
    "    os.mkdir(\"pokemon\")\n",
    "    print(\"폴더 생성 완료\")\n",
    "else:\n",
    "    print(\"폴더 이미 존재\")\n",
    "\n",
    "i = 0\n",
    "for pokemon in pokemon_list:\n",
    "    pokemon_url = pokemon.get_pokemon_img_url()\n",
    "    response = requests.get(pokemon_url)\n",
    "    pokemon_data = response.content\n",
    "    pokemon_path = f\"pokemon/pokemon{i}.jpg\"\n",
    "    i += 1\n",
    "    with open(pokemon_path, \"wb\") as file:\n",
    "        file.write(pokemon_data)\n",
    "        print(f\"pokemon{i}.jpg 저장 완료\")"
   ]
  },
  {
   "cell_type": "code",
   "execution_count": 12,
   "id": "94ced6bd-fd65-47e3-a3f0-e8749cfd36aa",
   "metadata": {},
   "outputs": [
    {
     "data": {
      "text/plain": [
       "'https://data1.pokemonkorea.co.kr/newdata/pokedex/full/007701.png'"
      ]
     },
     "execution_count": 12,
     "metadata": {},
     "output_type": "execute_result"
    }
   ],
   "source": [
    "pokemon_list[-1].get_pokemon_img_url()"
   ]
  },
  {
   "cell_type": "code",
   "execution_count": null,
   "id": "297fcfb5-2784-439b-a479-f369b704c2d6",
   "metadata": {},
   "outputs": [],
   "source": []
  },
  {
   "cell_type": "code",
   "execution_count": null,
   "id": "6e9f18f1-cacb-422d-b1b3-6136d88fe33b",
   "metadata": {},
   "outputs": [],
   "source": []
  },
  {
   "cell_type": "code",
   "execution_count": null,
   "id": "3f1ad1b3-a1a6-4cd6-8924-25b730d1cb98",
   "metadata": {},
   "outputs": [],
   "source": []
  },
  {
   "cell_type": "code",
   "execution_count": null,
   "id": "5f83e1b2-d1d5-4a78-afb4-17a45c1a60ff",
   "metadata": {},
   "outputs": [],
   "source": []
  }
 ],
 "metadata": {
  "kernelspec": {
   "display_name": "Python 3 (ipykernel)",
   "language": "python",
   "name": "python3"
  },
  "language_info": {
   "codemirror_mode": {
    "name": "ipython",
    "version": 3
   },
   "file_extension": ".py",
   "mimetype": "text/x-python",
   "name": "python",
   "nbconvert_exporter": "python",
   "pygments_lexer": "ipython3",
   "version": "3.9.23"
  }
 },
 "nbformat": 4,
 "nbformat_minor": 5
}
