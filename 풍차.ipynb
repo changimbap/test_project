{
 "cells": [
  {
   "cell_type": "code",
   "execution_count": 9,
   "id": "e9a4ea2a-994a-41d5-b289-355a03e101ae",
   "metadata": {},
   "outputs": [
    {
     "name": "stdin",
     "output_type": "stream",
     "text": [
      "풍차 날개 길이 입력 :  5\n"
     ]
    },
    {
     "name": "stdout",
     "output_type": "stream",
     "text": [
      "*    *****\n",
      "**   ****\n",
      "***  ***\n",
      "**** **\n",
      "******\n",
      "    ******\n",
      "   ** ****\n",
      "  ***  ***\n",
      " ****   **\n",
      "*****    *\n"
     ]
    }
   ],
   "source": [
    "num = int(input(\"풍차 날개 길이 입력 : \"))\n",
    "# 풍차 그려보자\n",
    "for i in range(1, num + 1):\n",
    "    for j in range(i):\n",
    "        print(\"*\", end=\"\")\n",
    "    for j in range(num - 1 - i, -1, -1):\n",
    "        print(\" \", end=\"\")\n",
    "    for j in range(num - i, -1, -1):\n",
    "        print(\"*\", end=\"\")\n",
    "    print()\n",
    "for i in range(1, num + 1):\n",
    "    for j in range(num - 1 - i, -1, -1):\n",
    "        print(\" \", end=\"\")\n",
    "    for j in range(i):\n",
    "        print(\"*\", end=\"\")\n",
    "    for j in range(i - 1):\n",
    "        print(\" \", end=\"\")\n",
    "    for j in range(num - i, -1, -1):\n",
    "        print(\"*\", end=\"\")\n",
    "    print()\n",
    "import time\n",
    "time.sleep(5)"
   ]
  },
  {
   "cell_type": "code",
   "execution_count": 10,
   "id": "89113af4-1acb-42d6-ba25-7b928a3fab2f",
   "metadata": {
    "scrolled": true
   },
   "outputs": [
    {
     "name": "stderr",
     "output_type": "stream",
     "text": [
      "22 DEPRECATION: Running PyInstaller as admin is not necessary nor sensible. Run PyInstaller from a non-administrator terminal. PyInstaller 7.0 will block this.\n",
      "225 INFO: PyInstaller: 6.14.2, contrib hooks: 2025.5\n",
      "225 INFO: Python: 3.9.23 (conda)\n",
      "230 INFO: Platform: Windows-10-10.0.26100-SP0\n",
      "230 INFO: Python environment: C:\\ProgramData\\anaconda3\\envs\\myenv\n",
      "231 INFO: wrote C:\\Users\\kccistc\\Desktop\\workspace\\풍차.spec\n",
      "238 INFO: Module search paths (PYTHONPATH):\n",
      "['C:\\\\ProgramData\\\\anaconda3\\\\envs\\\\myenv\\\\Scripts\\\\pyinstaller.exe',\n",
      " 'C:\\\\ProgramData\\\\anaconda3\\\\envs\\\\myenv\\\\python39.zip',\n",
      " 'C:\\\\ProgramData\\\\anaconda3\\\\envs\\\\myenv\\\\DLLs',\n",
      " 'C:\\\\ProgramData\\\\anaconda3\\\\envs\\\\myenv\\\\lib',\n",
      " 'C:\\\\ProgramData\\\\anaconda3\\\\envs\\\\myenv',\n",
      " 'C:\\\\ProgramData\\\\anaconda3\\\\envs\\\\myenv\\\\lib\\\\site-packages',\n",
      " 'C:\\\\ProgramData\\\\anaconda3\\\\envs\\\\myenv\\\\lib\\\\site-packages\\\\win32',\n",
      " 'C:\\\\ProgramData\\\\anaconda3\\\\envs\\\\myenv\\\\lib\\\\site-packages\\\\win32\\\\lib',\n",
      " 'C:\\\\ProgramData\\\\anaconda3\\\\envs\\\\myenv\\\\lib\\\\site-packages\\\\Pythonwin',\n",
      " 'C:\\\\ProgramData\\\\anaconda3\\\\envs\\\\myenv\\\\lib\\\\site-packages\\\\setuptools\\\\_vendor',\n",
      " 'C:\\\\Users\\\\kccistc\\\\Downloads']\n",
      "601 INFO: checking Analysis\n",
      "601 INFO: Building Analysis because Analysis-00.toc is non existent\n",
      "601 INFO: Running Analysis Analysis-00.toc\n",
      "601 INFO: Target bytecode optimization level: 0\n",
      "601 INFO: Initializing module dependency graph...\n",
      "602 INFO: Initializing module graph hook caches...\n",
      "615 INFO: Analyzing modules for base_library.zip ...\n",
      "1361 INFO: Processing standard module hook 'hook-encodings.py' from 'C:\\\\ProgramData\\\\anaconda3\\\\envs\\\\myenv\\\\lib\\\\site-packages\\\\PyInstaller\\\\hooks'\n",
      "2166 INFO: Processing standard module hook 'hook-pickle.py' from 'C:\\\\ProgramData\\\\anaconda3\\\\envs\\\\myenv\\\\lib\\\\site-packages\\\\PyInstaller\\\\hooks'\n",
      "2563 INFO: Processing standard module hook 'hook-heapq.py' from 'C:\\\\ProgramData\\\\anaconda3\\\\envs\\\\myenv\\\\lib\\\\site-packages\\\\PyInstaller\\\\hooks'\n",
      "2760 INFO: Caching module dependency graph...\n",
      "2785 INFO: Looking for Python shared library...\n",
      "2789 INFO: Using Python shared library: C:\\ProgramData\\anaconda3\\envs\\myenv\\python39.dll\n",
      "2789 INFO: Analyzing C:\\Users\\kccistc\\Downloads\\풍차.py\n",
      "2798 INFO: Processing module hooks (post-graph stage)...\n",
      "2802 INFO: Performing binary vs. data reclassification (1 entries)\n",
      "2803 INFO: Looking for ctypes DLLs\n",
      "2804 INFO: Analyzing run-time hooks ...\n",
      "2806 INFO: Creating base_library.zip...\n",
      "2847 INFO: Looking for dynamic libraries\n",
      "2893 INFO: Extra DLL search directories (AddDllDirectory): []\n",
      "2893 INFO: Extra DLL search directories (PATH): []\n",
      "3155 INFO: Warnings written to C:\\Users\\kccistc\\Desktop\\workspace\\build\\풍차\\warn-풍차.txt\n",
      "3166 INFO: Graph cross-reference written to C:\\Users\\kccistc\\Desktop\\workspace\\build\\풍차\\xref-풍차.html\n",
      "3177 INFO: checking PYZ\n",
      "3177 INFO: Building PYZ because PYZ-00.toc is non existent\n",
      "3177 INFO: Building PYZ (ZlibArchive) C:\\Users\\kccistc\\Desktop\\workspace\\build\\풍차\\PYZ-00.pyz\n",
      "3327 INFO: Building PYZ (ZlibArchive) C:\\Users\\kccistc\\Desktop\\workspace\\build\\풍차\\PYZ-00.pyz completed successfully.\n",
      "3335 INFO: checking PKG\n",
      "3335 INFO: Building PKG because PKG-00.toc is non existent\n",
      "3335 INFO: Building PKG (CArchive) 풍차.pkg\n",
      "4643 INFO: Building PKG (CArchive) 풍차.pkg completed successfully.\n",
      "4644 INFO: Bootloader C:\\ProgramData\\anaconda3\\envs\\myenv\\lib\\site-packages\\PyInstaller\\bootloader\\Windows-64bit-intel\\run.exe\n",
      "4644 INFO: checking EXE\n",
      "4644 INFO: Building EXE because EXE-00.toc is non existent\n",
      "4644 INFO: Building EXE from EXE-00.toc\n",
      "4645 INFO: Copying bootloader EXE to C:\\Users\\kccistc\\Desktop\\workspace\\dist\\풍차.exe\n",
      "4651 INFO: Copying icon to EXE\n",
      "4655 INFO: Copying 0 resources to EXE\n",
      "4655 INFO: Embedding manifest in EXE\n",
      "4659 INFO: Appending PKG archive to EXE\n",
      "4693 INFO: Fixing EXE headers\n",
      "6986 INFO: Building EXE from EXE-00.toc completed successfully.\n",
      "6987 INFO: Build complete! The results are available in: C:\\Users\\kccistc\\Desktop\\workspace\\dist\n"
     ]
    }
   ],
   "source": [
    "!pyinstaller --onefile \"../../Downloads/풍차.py\""
   ]
  }
 ],
 "metadata": {
  "kernelspec": {
   "display_name": "Python 3 (ipykernel)",
   "language": "python",
   "name": "python3"
  },
  "language_info": {
   "codemirror_mode": {
    "name": "ipython",
    "version": 3
   },
   "file_extension": ".py",
   "mimetype": "text/x-python",
   "name": "python",
   "nbconvert_exporter": "python",
   "pygments_lexer": "ipython3",
   "version": "3.9.23"
  }
 },
 "nbformat": 4,
 "nbformat_minor": 5
}
