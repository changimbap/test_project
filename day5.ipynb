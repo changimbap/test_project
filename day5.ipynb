{
 "cells": [
  {
   "cell_type": "markdown",
   "id": "e49c009b-c36d-45b3-b3bf-99f14484a497",
   "metadata": {},
   "source": [
    "## 객체 지향 프로그래밍 \n",
    "## (Object Oriented Programming)\n",
    "- 패러다임 -> 당대 지식인들이 공통적으로 공유하고 있는 생각, 개념\n",
    "- 프로그램 패러다임\n",
    "- 절차지향 프로그래밍 -> 객체지향 프로그래밍\n",
    "- 객체(Object) : 추상적, 구체적인 개념 + 수학 함수\n",
    "- 클래스(Class) : 객체를 만들기 위한 설계도\n",
    "- 인스턴스(Instance) : 클래스로부터 만들어진 실체화(메모리에 올라감)된 객체"
   ]
  },
  {
   "cell_type": "code",
   "execution_count": 23,
   "id": "566d8932-7624-479c-b0bb-9399829e9628",
   "metadata": {},
   "outputs": [],
   "source": [
    "# 돼지 저금통 클래스!!\n",
    "# class 클래스명\n",
    "# 함수를 클래스 내 정의 시! \n",
    "# -> 첫 번째 매개변수를 반드시 self 키워드 사용\n",
    "\n",
    "# class Bank:\n",
    "#     # Data(field)\n",
    "#     money = 0\n",
    "    \n",
    "#     def deposit(self, num):\n",
    "#         self.money += num\n",
    "\n",
    "#     def show_money(self):\n",
    "#         print(self.money)"
   ]
  },
  {
   "cell_type": "code",
   "execution_count": 22,
   "id": "1414b2f3-9216-4e78-b75e-e525469d1411",
   "metadata": {},
   "outputs": [],
   "source": [
    "# 정의된 클래스로부터\n",
    "# 변수명(인스턴스명) = 클래스명()\n",
    "\n",
    "# bank1 = Bank()\n",
    "# bank1.deposit(500)\n",
    "# bank1.show_money()\n",
    "\n",
    "# bank2 = Bank()\n",
    "# bank2.deposit(1000)\n",
    "# bank2.show_money()\n",
    "\n",
    "# bank1.deposit(2000)\n",
    "# bank2.show_money()   # memory 상 다른 공간에 저장되기 때문에 서로 영향을 주지 않음\n"
   ]
  },
  {
   "cell_type": "code",
   "execution_count": 8,
   "id": "68d5648d-6564-4fc6-a61b-3b56a7724c41",
   "metadata": {},
   "outputs": [],
   "source": [
    "# 1. 클래스를 만들어보자\n",
    "# 컴퓨터 클래스\n",
    "# class 라는 키워드를 통해 클래스를 구성\n",
    "class Computer:\n",
    "    # 멤버 : 클래스 안에 있는 2가지 요소\n",
    "    # 1. 멤버 변수 : 속성, 특징, 필드(field)\n",
    "    # 2. 멤버 함수 : 함수, 메소드, 기능, 동작\n",
    "    output_device = \"모니터\"\n",
    "    input_device = \"키보드\"\n",
    "\n",
    "    # self : 클래스 이름을 가르키는 역할\n",
    "    # 해당 인스턴스를 가르킨다\n",
    "    # python은 들여쓰기를 통해 \n",
    "    # 해당 코드(body)들이 어디에 있는지 구분\n",
    "    # 클래스 내에서 함수 구현 시\n",
    "    # 반드시 첫 번째 매개변수는 self로 규정\n",
    "\n",
    "    def search(self):\n",
    "        print(\"폭풍 검색\")\n",
    "\n",
    "    def programming(self):\n",
    "        print(\"코딩의 신\")\n",
    "\n",
    "    def __str__(self):\n",
    "        #__str__ 함수의 역할\n",
    "        # 해당 인스턴스의 이름을 부르면 동작\n",
    "        # 클래스 내 멤버 변수를 가르키기 위해서\n",
    "        # self.변수이름 을 사용한다\n",
    "        result = f\"입력 디바이스 : {self.input_device}\\n출력 디바이스 : {self.output_device}\"\n",
    "        return result"
   ]
  },
  {
   "cell_type": "code",
   "execution_count": 7,
   "id": "eea59184-411d-4d1d-a744-32cfef984779",
   "metadata": {},
   "outputs": [
    {
     "name": "stdout",
     "output_type": "stream",
     "text": [
      "입력 디바이스 : 키보드\n",
      "출력 디바이스 : 모니터\n",
      "키보드\n",
      "모니터\n",
      "폭풍 검색\n",
      "코딩의 신\n",
      "기계식 키보드\n"
     ]
    }
   ],
   "source": [
    "my_first_pc = Computer()\n",
    "# 클래스로부터 만든 인스턴스 안에 있는 멤버를 호출하기 위해서는\n",
    "# .을 사용한다\n",
    "print(my_first_pc)\n",
    "print(my_first_pc.input_device)\n",
    "print(my_first_pc.output_device)\n",
    "my_first_pc.search()\n",
    "my_first_pc.programming()\n",
    "\n",
    "my_first_pc.input_device = \"기계식 키보드\"\n",
    "print(my_first_pc.input_device)"
   ]
  },
  {
   "cell_type": "code",
   "execution_count": null,
   "id": "c9ee58d2-985a-4f87-918b-73445bd5e49c",
   "metadata": {},
   "outputs": [],
   "source": [
    "# VO(Value Object)\n",
    "# : 클래스의 용도 중 하나\n",
    "\n",
    "# 우리 반의 정보를 담는 자료를 만들고 싶다\n",
    "# 1. 이름 -> string\n",
    "# 2. 나이 -> int\n",
    "# 3. mbti -> string\n",
    "\n",
    "# string, int, string\n",
    "# 3개의 자료형을 갖는 자료구조가\n",
    "# python에 있을까?\n",
    "# 내가 만들자!\n",
    "# 사용자 정의 자료형 : VO"
   ]
  },
  {
   "cell_type": "code",
   "execution_count": 43,
   "id": "07e881ba-9eb0-46f4-a7d7-9e56a1f6dd83",
   "metadata": {},
   "outputs": [],
   "source": [
    "# 우리반 정보를 담는 VO 만들기\n",
    "\n",
    "# 이름 : 정예찬\n",
    "        # 나이 : 만 26(세)\n",
    "        # MBTI : ESFJ\n",
    "\n",
    "        # 문자열을 담는 방법\n",
    "        # 1. ''\n",
    "        # 2. \"\"\n",
    "        # 3. \"\"\"여러줄의 문자열\"\n",
    "\n",
    "class Member:\n",
    "    name = \"\"\n",
    "    age = 0\n",
    "    mbti = \"\"\n",
    "\n",
    "    # 생성자 (Constructor)\n",
    "    def __init__(self, name, age, mbti):\n",
    "        self.name = name\n",
    "        self.age = age\n",
    "        self.mbti = mbti\n",
    "\n",
    "    def __str__(self):     \n",
    "        result = f\"\"\"이름 : {self.name}\n",
    "나이 : 만 {self.age}(세)\n",
    "MBTI : {self.mbti}\"\"\"\n",
    "        return result\n",
    "\n",
    "    # 외부에서 특정 멤버 변수에 접근을 허용하는 함수를 만들자\n",
    "    # getter, setter \n",
    "    # getter함수는 단지 멤버 변수를 돌려줄 뿐임.\n",
    "    def get_name(self):\n",
    "        return self.name\n",
    "    # setter함수는 전달인자를 받아\n",
    "    # 멤버 변수를 수정하는 역할\n",
    "    def set_name(self, name):\n",
    "        self.name = name"
   ]
  },
  {
   "cell_type": "code",
   "execution_count": 21,
   "id": "0d47b589-f4cb-464c-8b67-93581dca0211",
   "metadata": {},
   "outputs": [
    {
     "name": "stdout",
     "output_type": "stream",
     "text": [
      "이름 : 정예찬\n",
      "나이 : 만 26(세)\n",
      "MBTI : ESFJ\n",
      "이름 : 이영남\n",
      "나이 : 만 20(세)\n",
      "MBTI : ESFJ\n",
      "이름 : 정예찬\n",
      "나이 : 만 27(세)\n",
      "MBTI : ESFJ\n",
      "이름 : 이영남\n",
      "나이 : 만 21(세)\n",
      "MBTI : ESFJ\n"
     ]
    }
   ],
   "source": [
    "member_cyc = Member(\"정예찬\", 26, \"ESFJ\")\n",
    "print(member_cyc)\n",
    "\n",
    "member_lyn = Member(\"이영남\", 20, \"ESFJ\")\n",
    "print(member_lyn)\n",
    "\n",
    "member_list = [member_cyc, member_lyn]\n",
    "for member in member_list:\n",
    "    member.age += 1\n",
    "    print(member)\n",
    "    \n",
    "# member_cyc.name = \"정예찬\"\n",
    "# member_cyc.age = 26\n",
    "# member_cyc.mbti = \"ESFJ\""
   ]
  },
  {
   "cell_type": "code",
   "execution_count": 42,
   "id": "00442f9b-5e8e-41f0-b451-e7cd49a4a914",
   "metadata": {},
   "outputs": [],
   "source": [
    "# 접근 제어자 (Access Modifier)\n",
    "# 개발자가 멤버 변수를 만듦\n",
    "# 외부에서 접근 못하게 설정\n",
    "\n",
    "# 접근 제어\n",
    "# 1. public : 누구나 어디에서든 접근 가능!1\n",
    "# 2. protected : _패키지 + 폴더 + 상곡 관계에서 접근 가능\n",
    "# 3. private : __클래스 내에서만 접근 가능\n",
    "class Bank:\n",
    "    __money = 0\n",
    "    def deposit(self, money):\n",
    "        self.__money += money\n",
    "    def withdraw(self, money):\n",
    "        self.__money -= money\n",
    "    def show_me_the_money(self):\n",
    "        print(f\"잔액 : {self.__money}원\")"
   ]
  },
  {
   "cell_type": "code",
   "execution_count": 41,
   "id": "2ac5d684-69cc-4902-bef6-5ee57df8848a",
   "metadata": {},
   "outputs": [
    {
     "name": "stdout",
     "output_type": "stream",
     "text": [
      "잔액 : 0원\n",
      "잔액 : 10000원\n",
      "잔액 : 10000원\n"
     ]
    }
   ],
   "source": [
    "account_cyc = Bank()\n",
    "account_cyc.show_me_the_money()\n",
    "account_cyc.deposit(10000)\n",
    "account_cyc.show_me_the_money()\n",
    "account_cyc.__money = 20000000\n",
    "account_cyc.show_me_the_money()\n",
    "# account_cyc.show_me_the_money()"
   ]
  },
  {
   "cell_type": "code",
   "execution_count": 45,
   "id": "447e88a2-f1e7-4cc7-8e5c-2dbe44cc53ff",
   "metadata": {},
   "outputs": [],
   "source": [
    "# 3. 객체 지향 프로그래밍의 4가지 특징\n",
    "\n",
    "# 1) 추상화 (Abstraction)\n",
    "# 어떠한 객체를 떠올릴 때\n",
    "# 객체의 대표적인 특징들을 추출하는 행위\n",
    "\n",
    "# 사자, 호랑이, 코끼리, 도마뱀\n",
    "# 사자 : 갈기, 포유류\n",
    "# 호랑이 : 줄무늬, 포유류, 어흥\n",
    "\n",
    "class Lion:\n",
    "    feature = \"갈기\"\n",
    "    species = \"포유류\"\n",
    "\n",
    "    def cry(self):\n",
    "        print(\"으르렁\")\n",
    "\n",
    "    def embrace(self):\n",
    "        print(\"젖을 먹인다\")\n",
    "\n",
    "class Tiger:\n",
    "    feature = \"줄무늬\"\n",
    "    species = \"포유류\"\n",
    "\n",
    "    def cry(self):\n",
    "        print(\"어흥\")\n",
    "\n",
    "    def embrace(self):\n",
    "        print(\"젖을 먹인다\")"
   ]
  },
  {
   "cell_type": "code",
   "execution_count": 50,
   "id": "856ca057-5684-4d57-ae22-6a35361900c5",
   "metadata": {},
   "outputs": [],
   "source": [
    "# 2) 상속 (Inheritance)\n",
    "# 자식 클래스가 부모 클래스를 멤버를 상속받는 행위\n",
    "# 사자와 호랑이의 공통적인 특징 추출 (이것 또한 추상화)\n",
    "# 추출 된 특징 -> 포유류\n",
    "\n",
    "# 자식 클래스 : Sub Class, 하위 클래스\n",
    "# 부모 클래스 : Supper Class, 상위 클래스\n",
    "\n",
    "class Mammal:\n",
    "\n",
    "    species = \"포유류\"\n",
    "    \n",
    "    def embrace(self):\n",
    "        print(\"젖을 먹인다\")\n",
    "\n",
    "# class 클래스명(부모 클래스)\n",
    "class Elephant(Mammal):\n",
    "    feature = \"긴 코, 큰 귀\"\n",
    "\n",
    "    def cry(self):\n",
    "        print(\"크와앙\")\n",
    "\n",
    "    def embrace(self):\n",
    "        print(\"역동적으로\")\n",
    "    "
   ]
  },
  {
   "cell_type": "code",
   "execution_count": 51,
   "id": "74efbd9c-ffc2-4b86-a0bf-1d885ee650bf",
   "metadata": {},
   "outputs": [
    {
     "name": "stdout",
     "output_type": "stream",
     "text": [
      "포유류\n",
      "갈기\n",
      "으르렁\n",
      "긴 코, 큰 귀\n",
      "크와앙\n",
      "포유류\n",
      "역동적으로\n"
     ]
    }
   ],
   "source": [
    "# 사자 2마리\n",
    "lion1 = Lion()\n",
    "lion2 = Lion()\n",
    "print(lion1.species)\n",
    "print(lion1.feature)\n",
    "lion1.cry()\n",
    "\n",
    "# 코끼리\n",
    "elephant1 = Elephant()\n",
    "print(elephant1.feature)\n",
    "elephant1.cry()\n",
    "print(elephant1.species)\n",
    "elephant1.embrace()"
   ]
  },
  {
   "cell_type": "code",
   "execution_count": null,
   "id": "5caebd67-c97c-4a1f-8cad-cbf5b083c109",
   "metadata": {},
   "outputs": [],
   "source": [
    "# 3) 캡슐화 (Encapsulation)\n",
    "# 사용자가 알지 않아도 되는 멤버에 대해\n",
    "# 접근 허용범위를 설정\n",
    "\n",
    "# __private멤버변수\n",
    "# _protected멤버변수\n",
    "# public멤버변수 : 누구나 어디에서든"
   ]
  },
  {
   "cell_type": "code",
   "execution_count": 53,
   "id": "6545c6ec-6509-42ef-847e-6f4627d010dd",
   "metadata": {},
   "outputs": [],
   "source": [
    "# 4) 다형성 (Polymorphism)\n",
    "# 한 가지 기능으로 여러가지 결과가 나올 수 있음\n",
    "# 다양한 성질을 지닐 수 있다\n",
    "# Python에서 다형성은 멤버 함수 Overriding이 유일\n",
    "\n",
    "# 포유류 - 코끼리 경우에서 \n",
    "# 만약, 코끼리에게 젖을 먹이는 기능이 있다면\n",
    "# 호출\n",
    "# 없다면, 부모로 타고 올라가서 부모의 기능 호출\n",
    "\n",
    "# Overriding\n",
    "# 자식 클래스에서 \n",
    "# 부모 클래스의 함수를 재정의"
   ]
  },
  {
   "cell_type": "code",
   "execution_count": 54,
   "id": "3357d188-ac51-430d-81bd-62e4af6b05d1",
   "metadata": {},
   "outputs": [],
   "source": [
    "# 자료 구조 (Data Structure)\n",
    "# 자료를 효율적으로 다루기 위해 사용하는 방법\n",
    "# 1. 선형 자료구조\n",
    "#  1) 배열 (Array)\n",
    "#  2) 연결 리스트 (Linked List)\n",
    "#  3) 스택 (Stack)\n",
    "#  4) 큐 (Queue)\n",
    "# 2.  비선형 자료구조\n",
    "#  1) 트리 (Tree)\n",
    "#  2) 그래프 (Graph)"
   ]
  },
  {
   "cell_type": "code",
   "execution_count": 56,
   "id": "bb1dcc64-47fd-4aa2-81f7-2fdf461d475d",
   "metadata": {},
   "outputs": [],
   "source": [
    "# 1) 배열 (Array)\n",
    "# 순차적, 연속적 데이터\n",
    "# 인덱스를 통해 데이터에 빠르게 접근 가능\n",
    "# 크기 고정\n",
    "# Python 에서는 list를 Array처럼 사용\n",
    "\n",
    "# insert(요소) -> 값 추가!! (가장 마지막에)\n",
    "# get(index) -> 해당 인덱스의 값을 리턴!\n",
    "# 인스턴스 이름 자체를 호출 -> 모든 값 출력\n",
    "\n",
    "\n",
    "class Array:\n",
    "    def __init__(self):\n",
    "        self.data = []\n",
    "\n",
    "    def insert(self, value):\n",
    "        self.data.append(value)\n",
    "\n",
    "    def get(self, index):\n",
    "        return self.data[index]\n",
    "\n",
    "    def __str__(self):\n",
    "        return str(self.data)\n"
   ]
  },
  {
   "cell_type": "code",
   "execution_count": 57,
   "id": "fa09550b-1ba7-4a58-a397-350e3fe3665b",
   "metadata": {},
   "outputs": [
    {
     "name": "stdout",
     "output_type": "stream",
     "text": [
      "[10, 20]\n"
     ]
    }
   ],
   "source": [
    "arr1 = Array()\n",
    "arr1.insert(10)\n",
    "arr1.insert(20)\n",
    "arr1.get(0) #10\n",
    "arr1.get(1) #20\n",
    "print(arr1) # [10, 20]"
   ]
  },
  {
   "cell_type": "code",
   "execution_count": null,
   "id": "cc4036e8-4a2e-46dc-8d2e-c29860464d2f",
   "metadata": {},
   "outputs": [],
   "source": [
    "# 3) 스택 (Stack)\n",
    "# LIFO : Last In First Out\n",
    "# 1. push(value)\n",
    "# 2. pop() -> 마지막 요소 꺼내고 리턴\n",
    "# 3. peek() -> 마지막 요소 리턴, 없다면 -1 리턴\n",
    "# 4. is_empty() -> 비어 있으면 1, 아니면 0"
   ]
  },
  {
   "cell_type": "code",
   "execution_count": 63,
   "id": "aa3f3166-be2e-4452-bca5-e6419260cb43",
   "metadata": {},
   "outputs": [],
   "source": [
    "class Stack:\n",
    "    def __init__(self):\n",
    "        self.stack = []\n",
    "    def push(self, value):\n",
    "        self.stack.append(value)\n",
    "    def pop(self):\n",
    "        temp = self.stack[-1]\n",
    "        del self.stack[-1]\n",
    "        return temp\n",
    "\n",
    "        # 2번째 방법\n",
    "        # python에서 list에 \n",
    "        # 자체적으로 pop() 함수가 존재\n",
    "        # self.stack.pop()\n",
    "    def peek(self):\n",
    "        return -1 if self.is_empty() == 1 else self.stack[-1]\n",
    "\n",
    "    def is_empty(self):\n",
    "        if len(self.stack) == 0:\n",
    "            return 1\n",
    "        else:\n",
    "            return 0"
   ]
  },
  {
   "cell_type": "code",
   "execution_count": null,
   "id": "1b2f4fce-2bd2-4023-919e-1e2713e82b7c",
   "metadata": {},
   "outputs": [],
   "source": [
    "is_valid()"
   ]
  },
  {
   "cell_type": "code",
   "execution_count": 73,
   "id": "8caa2b1b-668d-437f-85e2-e3e3ae60d810",
   "metadata": {},
   "outputs": [],
   "source": [
    "quiz = \"(())()))\"\n",
    "\n",
    "# 괄호 검증 프로그램\n",
    "# 위의 괄호가 열고-닫고 pair가 개수가 맞는지\n",
    "# push, pop, peak, is_empty\n",
    "\n",
    "# def 함수명(매개변수 : 데이터타입) -> 리턴타입 체크\n",
    "def is_valid(quiz : str) -> bool:\n",
    "    stack = Stack()\n",
    "    is_correct = True\n",
    "    for p in quiz:\n",
    "        if p == \"(\":\n",
    "            # 여는 괄호\n",
    "            stack.push(\"(\")\n",
    "        else:\n",
    "            # 1. 스택이 비어있을 때\n",
    "            if stack.is_empty() == 1:\n",
    "                is_correct = False\n",
    "                break\n",
    "            # 2. 스택이 비어있지 않다면\n",
    "            # 2-1) \"(\"\n",
    "            # 2-2) \")\"\n",
    "            else:\n",
    "                if stack.pop() == \"(\":\n",
    "                    continue\n",
    "                else:\n",
    "                    is_correct = False\n",
    "                    break\n",
    "    return is_correct and stack.is_empty() == 1   "
   ]
  },
  {
   "cell_type": "code",
   "execution_count": null,
   "id": "b5994fd9-47bc-419e-954f-7dba29126db4",
   "metadata": {},
   "outputs": [],
   "source": []
  },
  {
   "cell_type": "code",
   "execution_count": 74,
   "id": "405371f5-7996-4ba2-b710-8886822818da",
   "metadata": {},
   "outputs": [
    {
     "name": "stdout",
     "output_type": "stream",
     "text": [
      "10\n",
      "20\n"
     ]
    }
   ],
   "source": [
    "# 4) 큐 (Queue)\n",
    "# FIFO (First In First Out)\n",
    "# Python에서 라이브러리로 구현\n",
    "\n",
    "from collections import deque\n",
    "\n",
    "class My_Queue:\n",
    "\n",
    "    def __init__(self):\n",
    "        self.queue = deque()\n",
    "\n",
    "    def enqueue(self, value):\n",
    "        self.queue.append(value)\n",
    "\n",
    "    def dequeue(self):\n",
    "        return self.queue.popleft()\n",
    "\n",
    "    def is_empty(self):\n",
    "        if len(self.queue) == 0:\n",
    "            return 1\n",
    "        else: \n",
    "            return 0\n",
    "q = deque()\n",
    "q.append(10)\n",
    "q.append(20)\n",
    "print(q.popleft())\n",
    "print(q.popleft())"
   ]
  },
  {
   "cell_type": "code",
   "execution_count": 79,
   "id": "c04d0eff-09a6-4599-8316-15ba0eda3107",
   "metadata": {},
   "outputs": [],
   "source": [
    "# 2) 연결 리스트 (Linked List)\n",
    "# Node 간에 연결 구조\n",
    "# 삽입 / 삭제가 빠르다\n",
    "\n",
    "# 1 -> 3 -> 7 -> 11\n",
    "# value\n",
    "# 주소\n",
    "class Node:\n",
    "    def __init__(self, value):\n",
    "        self.value = value\n",
    "        self.next = None\n",
    "\n",
    "    # value : 1\n",
    "    # next : None\n",
    "\n",
    "    # value : 3\n",
    "    # 이 순간 1의 next가 3을 가리켜야 한다\n",
    "    # 3의 next : None\n",
    "\n",
    "class Linked_List:\n",
    "\n",
    "    def __init__(self):\n",
    "        self.head = None\n",
    "        \n",
    "    def appened(self, value):\n",
    "        new_node = Node(value)\n",
    "        if not self.head:\n",
    "            self.head = new_node\n",
    "            return\n",
    "        \n",
    "        curr = self.head\n",
    "        while curr.next:\n",
    "            curr = curr.next\n",
    "        curr.next = new_node\n",
    "\n",
    "    def display(self):\n",
    "        curr = self.head\n",
    "        while curr:\n",
    "            print(f\"{curr.value} -> \", end=\"\")\n",
    "            curr = curr.next\n",
    "        print(\"None\")"
   ]
  },
  {
   "cell_type": "code",
   "execution_count": 81,
   "id": "3ef74222-9c83-48d4-8796-5a542c70727d",
   "metadata": {},
   "outputs": [
    {
     "name": "stdout",
     "output_type": "stream",
     "text": [
      "1 -> 3 -> None\n"
     ]
    }
   ],
   "source": [
    "linked1 = Linked_List()\n",
    "linked1.appened(1)\n",
    "linked1.appened(3)\n",
    "linked1.display()"
   ]
  },
  {
   "cell_type": "code",
   "execution_count": null,
   "id": "bb8601f7-9139-4980-9526-a5ce3786e23c",
   "metadata": {},
   "outputs": [],
   "source": [
    "push X: 정수 X를 큐에 넣는 연산이다.\n",
    "pop: 큐에서 가장 앞에 있는 정수를 빼고, 그 수를 출력한다. 만약 큐에 들어있는 정수가 없는 경우에는 -1을 출력한다.\n",
    "size: 큐에 들어있는 정수의 개수를 출력한다.\n",
    "empty: 큐가 비어있으면 1, 아니면 0을 출력한다.\n",
    "front: 큐의 가장 앞에 있는 정수를 출력한다. 만약 큐에 들어있는 정수가 없는 경우에는 -1을 출력한다.\n",
    "back: 큐의 가장 뒤에 있는 정수를 출력한다. 만약 큐에 들어있는 정수가 없는 경우에는 -1을 출력한다."
   ]
  },
  {
   "cell_type": "code",
   "execution_count": 98,
   "id": "d1d736a8-d2cc-47cb-9053-77a6b865d1b2",
   "metadata": {},
   "outputs": [],
   "source": [
    "# 4) Queue 구현\n",
    "class Queue:\n",
    "    def __init__(self):\n",
    "        self.queue = []\n",
    "    def push(self, value):\n",
    "        self.queue.append(value)\n",
    "    def pop(self):\n",
    "        if len(self.queue) != 0:\n",
    "        # queue 에 들어있는 정수가 있는 경우\n",
    "            temp = self.queue[0]\n",
    "            del self.queue[0]\n",
    "            return temp\n",
    "        else:\n",
    "            print(-1)\n",
    "            return -1\n",
    "    def size(self):\n",
    "        # print(len(self.queue))\n",
    "        return len(self.queue)\n",
    "    def empty(self):\n",
    "        print(1 if len(self.queue) == 0 else 0)\n",
    "    def front(self):\n",
    "        print(self.queue[0] if self.empty == 0 else -1)\n",
    "    def back(self):\n",
    "        print(self.queue[-1] if self.empty == 0 else -1)"
   ]
  },
  {
   "cell_type": "code",
   "execution_count": 102,
   "id": "41411397-a58c-45cf-a129-96a64933ebc7",
   "metadata": {},
   "outputs": [
    {
     "name": "stdout",
     "output_type": "stream",
     "text": [
      "4\n"
     ]
    }
   ],
   "source": [
    "N = 6 # 결과가 4가 나오는지 확인\n",
    "\n",
    "q_card = Queue()\n",
    "for i in range(1, N + 1, 1):\n",
    "    q_card.push(i)\n",
    "\n",
    "# 가장 위에 있는 카드를 바닥에 버리고\n",
    "# 그 다음 카드를 맨 아래로 추가\n",
    "# 이 동작을 반복\n",
    "while q_card.size() != 0:\n",
    "\n",
    "    if q_card.size() == 1:\n",
    "        print(q_card.pop())\n",
    "        break\n",
    "        \n",
    "    q_card.pop()\n",
    "    q_card.push(q_card.pop())\n",
    "\n",
    "\n",
    "\n"
   ]
  },
  {
   "cell_type": "code",
   "execution_count": 103,
   "id": "1931db71-6693-4807-b97a-51863be00c19",
   "metadata": {},
   "outputs": [
    {
     "name": "stdout",
     "output_type": "stream",
     "text": [
      "10\n",
      "20\n",
      "30\n"
     ]
    },
    {
     "data": {
      "text/plain": [
       "0"
      ]
     },
     "execution_count": 103,
     "metadata": {},
     "output_type": "execute_result"
    }
   ],
   "source": [
    "q = Queue()\n",
    "q.push(10)\n",
    "q.push(20)\n",
    "q.push(30)\n",
    "print(q.pop())\n",
    "print(q.pop())\n",
    "print(q.pop())\n",
    "q.size()"
   ]
  },
  {
   "cell_type": "code",
   "execution_count": 110,
   "id": "f1ef29f9-3296-4696-a0c5-c9bacd4b076d",
   "metadata": {},
   "outputs": [
    {
     "name": "stdout",
     "output_type": "stream",
     "text": [
      "0으로 나눌 수 없습니다\n",
      "여기도 왔음\n"
     ]
    }
   ],
   "source": [
    "# 예외 처리!!\n",
    "# 에러 클래스를 통해\n",
    "# 특정 에러 상황 발생 시 \n",
    "# 사용자에게 스크립트 제공 + 에러 라인 제공\n",
    "\n",
    "# 예외 처리 \n",
    "# try ~ except + (finally)\n",
    "try:\n",
    "    print(3 % 0)\n",
    "    print(\"Hello\" + 2)\n",
    "except ZeroDivisionError: # 수학적으로 0으로 나누는 행위 불가능\n",
    "    print(\"0으로 나눌 수 없습니다\")\n",
    "except TypeError: # 자료형 관련 에러\n",
    "    print(\"자료형 관련 문제가 있습니다\")\n",
    "except ValueError: # 값 관련 에러\n",
    "    print(\"값 관련 문제가 있습니다\")\n",
    "    \n",
    "print(\"여기도 왔음\")\n",
    "\n"
   ]
  },
  {
   "cell_type": "code",
   "execution_count": 112,
   "id": "c448633d-ef71-4ab7-8952-b40db7d1c58e",
   "metadata": {},
   "outputs": [],
   "source": [
    "# 비선형 자료구조\n",
    "# 5) 트리 (Tree)\n",
    "# 부모-자식 계층 구조\n",
    "# 이진 트리( 자식노드가 최대  2개)\n",
    "class Tree:\n",
    "    def __init__(self, value):\n",
    "        self.value = value\n",
    "        self.left = None\n",
    "        self.right = None"
   ]
  },
  {
   "cell_type": "code",
   "execution_count": 114,
   "id": "52902ac0-5147-4ea7-95c8-74f970e86c5c",
   "metadata": {},
   "outputs": [],
   "source": [
    "tree_A = Tree(\"A\")\n",
    "tree_B = Tree(\"B\")\n",
    "tree_C = Tree(\"C\")\n",
    "tree_D = Tree(\"D\")\n",
    "tree_E = Tree(\"E\")\n",
    "tree_F = Tree(\"F\")\n",
    "tree_G = Tree(\"G\")\n",
    "\n",
    "tree_A.left = tree_B\n",
    "tree_A.right = tree_C\n",
    "tree_B.left = tree_D\n",
    "tree_C.left = tree_E\n",
    "tree_C.right = tree_F\n",
    "tree_F.right = tree_G"
   ]
  },
  {
   "cell_type": "code",
   "execution_count": 122,
   "id": "e7ec31b4-7091-41db-949e-49cea74307c7",
   "metadata": {},
   "outputs": [
    {
     "name": "stdout",
     "output_type": "stream",
     "text": [
      "ABDCEFG\n",
      "DBAECFG\n",
      "DBEGFCA\n"
     ]
    }
   ],
   "source": [
    "# 1. 전위 순회한 결과\n",
    "# \"ABDCEFG\"\n",
    "def pre_order(tree):\n",
    "    if tree:\n",
    "        print(tree.value, end=\"\")\n",
    "        # 자기 자신을 참조하는 재귀함수\n",
    "        pre_order(tree.left)\n",
    "        pre_order(tree.right)\n",
    "\n",
    "pre_order(tree_A)\n",
    "print()\n",
    "\n",
    "#  2. 중위 순회한 결과\n",
    "def in_order(tree):\n",
    "    if tree:\n",
    "        in_order(tree.left)\n",
    "        print(tree.value, end=\"\")\n",
    "        in_order(tree.right)\n",
    "in_order(tree_A)\n",
    "print()\n",
    "\n",
    "# 3. 후위 순회한 결과\n",
    "def post_order(tree):\n",
    "    if tree:\n",
    "        post_order(tree.left)\n",
    "        post_order(tree.right)\n",
    "        print(tree.value, end=\"\")\n",
    "\n",
    "post_order(tree_A)\n",
    "print()"
   ]
  },
  {
   "cell_type": "code",
   "execution_count": 125,
   "id": "7a36964a-306a-4a96-ac70-04dd6215d120",
   "metadata": {},
   "outputs": [
    {
     "name": "stdout",
     "output_type": "stream",
     "text": [
      "{1, 2, 3, 4}\n"
     ]
    }
   ],
   "source": [
    "# 집합형 자료형 \n",
    "# Set : 중복을 허용하지 않는 자료형\n",
    "set_A = set()\n",
    "set_A.add(1)\n",
    "set_A.add(2)\n",
    "set_A.add(3)\n",
    "set_A.add(4)\n",
    "print(set_A)"
   ]
  },
  {
   "cell_type": "code",
   "execution_count": 126,
   "id": "542e9bec-5714-4492-87b2-7cfd46bff72b",
   "metadata": {},
   "outputs": [
    {
     "name": "stdout",
     "output_type": "stream",
     "text": [
      "{1, 2, 3, 4}\n"
     ]
    }
   ],
   "source": [
    "list_B = [1, 2, 3, 4, 1]\n",
    "print(set(list_B))"
   ]
  },
  {
   "cell_type": "code",
   "execution_count": 132,
   "id": "3b742edc-880b-4b62-9e04-e1a4f3db8b5e",
   "metadata": {},
   "outputs": [],
   "source": [
    "# 6) 그래프(Graph)\n",
    "# 노드 - 간선으로 구성된 비선형 구조\n",
    "# 인접 리스트 방식으로 구현\n",
    "\n",
    "# 1 -> [2]\n",
    "# 2 -> [5]\n",
    "# 3 -> [5]\n",
    "# 5 -> [7]\n",
    "\n",
    "class Graph:\n",
    "    def __init__(self):\n",
    "        self.graph = {}\n",
    "    \n",
    "    def add_edge(self, u, v):\n",
    "        if u not in self.graph:\n",
    "            # 해당 key가 없으면\n",
    "            # 빈 리스트를 value로\n",
    "            self.graph[u] = []\n",
    "\n",
    "        self.graph[u].append(v)\n",
    "\n",
    "    def display(self):\n",
    "        # {1:[2, 3], 2:[5], 3:[5], 5:[7]}\n",
    "        for g in self.graph:\n",
    "            print(f\"{g} -> {self.graph[g]}\")"
   ]
  },
  {
   "cell_type": "code",
   "execution_count": 133,
   "id": "1e4acd44-b46c-4f8f-a075-f7ade994033e",
   "metadata": {},
   "outputs": [
    {
     "name": "stdout",
     "output_type": "stream",
     "text": [
      "1 -> [2, 3]\n",
      "2 -> [5]\n",
      "3 -> [5]\n",
      "5 -> [7]\n"
     ]
    }
   ],
   "source": [
    "graph_town = Graph()\n",
    "graph_town.add_edge(1, 2)\n",
    "graph_town.add_edge(2, 5)\n",
    "graph_town.add_edge(3, 5)\n",
    "graph_town.add_edge(5, 7)\n",
    "graph_town.add_edge(1, 3)\n",
    "graph_town.display()"
   ]
  }
 ],
 "metadata": {
  "kernelspec": {
   "display_name": "Python 3 (ipykernel)",
   "language": "python",
   "name": "python3"
  },
  "language_info": {
   "codemirror_mode": {
    "name": "ipython",
    "version": 3
   },
   "file_extension": ".py",
   "mimetype": "text/x-python",
   "name": "python",
   "nbconvert_exporter": "python",
   "pygments_lexer": "ipython3",
   "version": "3.9.23"
  }
 },
 "nbformat": 4,
 "nbformat_minor": 5
}
