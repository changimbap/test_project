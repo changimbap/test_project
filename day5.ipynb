{
 "cells": [
  {
   "cell_type": "code",
   "execution_count": 2,
   "id": "f1fd6179-3f51-4843-9e6e-3d60e68e08a8",
   "metadata": {},
   "outputs": [
    {
     "name": "stdout",
     "output_type": "stream",
     "text": [
      "오늘은 즐거운 금요일~\n"
     ]
    }
   ],
   "source": [
    "# 파일 입출력 (FIle I/O)\n",
    "\n",
    "# open : 파일 통로 열기\n",
    "# open(파일명(경로), 모드)\n",
    "# r : read (읽기)\n",
    "# w : write (쓰기)\n",
    "# a : add (만약, 기존 파일이 있다면 기존 내용 유지 하면서 쓰기)\n",
    "# b : binary (바이너리)\n",
    "\n",
    "file = open(\"sample.txt\", \"r\", encoding=\"utf-8\")\n",
    "content = file.read()\n",
    "print(content)\n",
    "file.close()"
   ]
  },
  {
   "cell_type": "code",
   "execution_count": 4,
   "id": "e07604bd-0e8b-4e79-ad54-8caca616d492",
   "metadata": {},
   "outputs": [
    {
     "name": "stdout",
     "output_type": "stream",
     "text": [
      "Hello, Python!\n",
      "파일 입출력 예제입니다.\n"
     ]
    }
   ],
   "source": [
    "file = open(\"test.txt\", \"w\")\n",
    "file.write(\"Hello, Python!\\n\")\n",
    "file.write(\"파일 입출력 예제입니다.\")\n",
    "file.close()\n",
    "\n",
    "file = open(\"test.txt\", \"r\")\n",
    "content = file.read()\n",
    "print(content)\n",
    "file.close()"
   ]
  },
  {
   "cell_type": "code",
   "execution_count": 6,
   "id": "b84fa0ef-295b-4e34-ba5a-c252d0da6a78",
   "metadata": {},
   "outputs": [
    {
     "name": "stdout",
     "output_type": "stream",
     "text": [
      "오늘은\n",
      "즐거운\n",
      "금요일\n",
      "\n"
     ]
    }
   ],
   "source": [
    "file = open(\"test2.txt\", \"w\")\n",
    "list1 = [\"오늘은\\n\", \"즐거운\\n\", \"금요일\\n\"]\n",
    "file.writelines(list1)\n",
    "file.close()\n",
    "\n",
    "file = open(\"test2.txt\", \"r\")\n",
    "content = file.read()\n",
    "print(content)\n",
    "file.close()"
   ]
  },
  {
   "cell_type": "code",
   "execution_count": 9,
   "id": "ef52c058-62b7-4c4d-a4fc-02702d32a311",
   "metadata": {},
   "outputs": [
    {
     "name": "stdout",
     "output_type": "stream",
     "text": [
      "오늘은\n",
      "즐거운\n",
      "금요일\n",
      "\n"
     ]
    }
   ],
   "source": [
    "# with ~ open\n",
    "# 통로를 열었으면 닫자 -> 자동으로 닫게 해주자\n",
    "with open(\"test2.txt\", \"r\") as file:\n",
    "    content = file.read()\n",
    "    print(content)\n",
    "# 끝나면 자동으로 file.close()가 동작!"
   ]
  },
  {
   "cell_type": "code",
   "execution_count": 10,
   "id": "1757fe02-b6a0-4562-a081-6eccf1079229",
   "metadata": {},
   "outputs": [],
   "source": [
    "# 파일 입출력 실습 1\n",
    "# number.txt를 만들어\n",
    "# 1 ~ 100 까지 숫자를 엔터(개행)쳐서 저장\n",
    "list_number = []\n",
    "for i in range(1, 101, 1):\n",
    "    list_number.append(f\"{i}\\n\")\n",
    "\n",
    "with open(\"number.txt\", \"w\") as file:\n",
    "    file.writelines(list_number)"
   ]
  },
  {
   "cell_type": "code",
   "execution_count": 14,
   "id": "afcdb78f-e263-4b36-abf4-2d36312b685a",
   "metadata": {},
   "outputs": [
    {
     "name": "stdout",
     "output_type": "stream",
     "text": [
      "5050\n"
     ]
    }
   ],
   "source": [
    "# 파일 입출력 실습 2\n",
    "# 위에서 만든 number.txt의 내용을 출력\n",
    "with open(\"number.txt\", \"r\") as file:\n",
    "    result = 0\n",
    "    for line in file:\n",
    "        # 문자열의 공백 제거\n",
    "        result += int(line.strip())\n",
    "        # print(line.strip(), end=\"\")\n",
    "    print(result)"
   ]
  },
  {
   "cell_type": "code",
   "execution_count": null,
   "id": "5bae1959-c54c-474f-a01a-80d90f8b5c1a",
   "metadata": {},
   "outputs": [],
   "source": [
    "https://github.com/nayeho/harman2/raw/refs/heads/main/sample.txt"
   ]
  },
  {
   "cell_type": "code",
   "execution_count": 4,
   "id": "d954ad77-69df-462d-8aff-69d781722f2d",
   "metadata": {},
   "outputs": [
    {
     "name": "stdout",
     "output_type": "stream",
     "text": [
      "Requirement already satisfied: flask in c:\\programdata\\anaconda3\\lib\\site-packages (3.1.0)\n",
      "Requirement already satisfied: Werkzeug>=3.1 in c:\\programdata\\anaconda3\\lib\\site-packages (from flask) (3.1.3)\n",
      "Requirement already satisfied: Jinja2>=3.1.2 in c:\\programdata\\anaconda3\\lib\\site-packages (from flask) (3.1.6)\n",
      "Requirement already satisfied: itsdangerous>=2.2 in c:\\programdata\\anaconda3\\lib\\site-packages (from flask) (2.2.0)\n",
      "Requirement already satisfied: click>=8.1.3 in c:\\programdata\\anaconda3\\lib\\site-packages (from flask) (8.1.8)\n",
      "Requirement already satisfied: blinker>=1.9 in c:\\programdata\\anaconda3\\lib\\site-packages (from flask) (1.9.0)\n",
      "Requirement already satisfied: colorama in c:\\programdata\\anaconda3\\lib\\site-packages (from click>=8.1.3->flask) (0.4.6)\n",
      "Requirement already satisfied: MarkupSafe>=2.0 in c:\\programdata\\anaconda3\\lib\\site-packages (from Jinja2>=3.1.2->flask) (3.0.2)\n"
     ]
    }
   ],
   "source": [
    "!pip install flask"
   ]
  },
  {
   "cell_type": "code",
   "execution_count": 5,
   "id": "041b4959-2093-4b1a-a3a3-98a5a80d646d",
   "metadata": {},
   "outputs": [],
   "source": [
    "import flask"
   ]
  },
  {
   "cell_type": "code",
   "execution_count": 2,
   "id": "b8b29322-1061-4335-8937-522eeb3aa06c",
   "metadata": {},
   "outputs": [
    {
     "name": "stderr",
     "output_type": "stream",
     "text": [
      "  % Total    % Received % Xferd  Average Speed   Time    Time     Time  Current\n",
      "                                 Dload  Upload   Total   Spent    Left  Speed\n",
      "\n",
      "  0     0    0     0    0     0      0      0 --:--:-- --:--:-- --:--:--     0\n",
      "  0     0    0     0    0     0      0      0 --:--:-- --:--:-- --:--:--     0\n",
      "\n",
      "100    50  100    50    0     0    467      0 --:--:-- --:--:-- --:--:--   467\n"
     ]
    }
   ],
   "source": [
    "# !\n",
    "# prompt에 직접적으로 명령어를 작성하고 싶을 때,\n",
    "# 1. ananconda prompt 끄고(Ctrl + C) 명령어 작성 -> 쥬피터노트북 다시 켜고\n",
    "# 2. File -> New -> Terminal 을 열어 명령어 작성\n",
    "# 3. jupyter notebook 내에서 <- prompt에 직접 명령어 작성 효과\n",
    "!curl -L https://github.com/nayeho/harman2/raw/refs/heads/main/sample.txt -o exam.txt"
   ]
  },
  {
   "cell_type": "code",
   "execution_count": 6,
   "id": "a4c87697-6d47-4f8d-a86c-6648b70c52bb",
   "metadata": {},
   "outputs": [
    {
     "name": "stdout",
     "output_type": "stream",
     "text": [
      "Python is fun!\n"
     ]
    }
   ],
   "source": [
    "# exam.txt 내용 로드 후 개행 문자 제거 후 첫 번째 줄만 출력\n",
    "# file 경로를 가져올 때\n",
    "# 자동환성 -> 해당 file 이 존재하는 지 확인 가능\n",
    "with open(\"exam.txt\", \"r\") as file:\n",
    "    content = file.readline().strip()\n",
    "    print(content)"
   ]
  },
  {
   "cell_type": "code",
   "execution_count": 16,
   "id": "61302367-7094-4672-a5c7-80da65c2e542",
   "metadata": {},
   "outputs": [
    {
     "name": "stdout",
     "output_type": "stream",
     "text": [
      "15\n",
      "19\n",
      "16\n",
      "0 Python is fun!\n",
      "1 Learning file I/O.\n",
      "2 Keep practicing!0 15\n",
      "1 19\n",
      "2 16\n",
      "0 14\n",
      "1 18\n",
      "2 16\n"
     ]
    }
   ],
   "source": [
    "# exam.txt\n",
    "# 각 라인의 문자 수 출력(공백포함)\n",
    "# 줄 1의 문자 수: 14\n",
    "# 줄 2의 문자 수: 18\n",
    "# 줄 3의 문자 수: 16\n",
    "with open(\"exam.txt\", \"r\") as file:\n",
    "    for f in  file:\n",
    "        print(len(f))\n",
    "\n",
    "with open(\"exam.txt\", \"r\") as file:\n",
    "    for index, file in enumerate(file):\n",
    "        print(index, file, end=\"\")\n",
    "        \n",
    "with open(\"exam.txt\", \"r\") as file:\n",
    "    for index, file in enumerate(file):\n",
    "        print(index, len(file))\n",
    "        \n",
    "with open(\"exam.txt\", \"r\") as file:\n",
    "    for index, file in enumerate(file):\n",
    "        print(index, len(file.strip()))"
   ]
  },
  {
   "cell_type": "code",
   "execution_count": 17,
   "id": "daf316fa-b173-4fdb-8b66-338a7e9bef3a",
   "metadata": {},
   "outputs": [
    {
     "name": "stdout",
     "output_type": "stream",
     "text": [
      "    Hello Python!    \n",
      "Hello Python!\n",
      "Hello Python!    \n",
      "    Hello Python!\n"
     ]
    }
   ],
   "source": [
    "str2 = \"    Hello Python!    \"\n",
    "print(str2)\n",
    "print(str2.strip()) # 앞 뒤 공백 제거\n",
    "print(str2.lstrip()) # 앞 공백 제거\n",
    "print(str2.rstrip()) # 뒤 공백 제거"
   ]
  },
  {
   "cell_type": "code",
   "execution_count": 12,
   "id": "84728cbe-d325-4e6e-b474-f60c846d70b8",
   "metadata": {},
   "outputs": [
    {
     "name": "stdout",
     "output_type": "stream",
     "text": [
      "0 짜장\n",
      "1 짬뽕\n",
      "2 탕수육\n"
     ]
    }
   ],
   "source": [
    "# enumerate\n",
    "# 반복문 등을 통해 \n",
    "# index와 value를 동시에 가져올 수 있음\n",
    "for index, value in enumerate(data2):\n",
    "    print(index, value)"
   ]
  },
  {
   "cell_type": "code",
   "execution_count": 11,
   "id": "28b4a813-9d35-4876-905e-df3c4942ee67",
   "metadata": {},
   "outputs": [
    {
     "name": "stdout",
     "output_type": "stream",
     "text": [
      "1번째 메뉴 : 짜장\n",
      "2번째 메뉴 : 짬뽕\n",
      "3번째 메뉴 : 탕수육\n",
      "0 짜장\n",
      "1 짬뽕\n",
      "2 탕수육\n"
     ]
    }
   ],
   "source": [
    "data = [[1, \"짜장\"], [2, \"짬뽕\"], [3, \"탕수육\"]]\n",
    "for i in range(len(data)):\n",
    "    print(f\"{i + 1}번째 메뉴 : {data[i][1]}\")\n",
    "\n",
    "data2 = [\"짜장\", \"짬뽕\", \"탕수육\"]\n",
    "for i in range(len(data2)):\n",
    "    print(i, data2[i])"
   ]
  },
  {
   "cell_type": "code",
   "execution_count": 29,
   "id": "0742c039-a727-462d-9130-e21763bd740f",
   "metadata": {},
   "outputs": [],
   "source": [
    "# sample.txt\n",
    "with open(\"sample2.txt\", \"w\") as file:\n",
    "    file.write(\"I love Python Programming\\n\")\n",
    "    file.write(\"Python is simple and powerful\\n\")\n",
    "    file.write(\"Python Python Python\")\n",
    "    file.write(\"C is hard\\n\")"
   ]
  },
  {
   "cell_type": "code",
   "execution_count": 27,
   "id": "ebc421e0-da3c-45bd-983d-aff3e3855cb6",
   "metadata": {},
   "outputs": [
    {
     "data": {
      "text/plain": [
       "2"
      ]
     },
     "execution_count": 27,
     "metadata": {},
     "output_type": "execute_result"
    }
   ],
   "source": [
    "# 문자열 함수 중 count()\n",
    "# 문자열.count(\"찾고자 하는 문자열\")\n",
    "# -> 문자열 개수 반환\n",
    "\"Python Python\".count(\"Python\")"
   ]
  },
  {
   "cell_type": "code",
   "execution_count": 30,
   "id": "f0857b70-c4a3-4dcf-8e06-d87e8b907db6",
   "metadata": {},
   "outputs": [
    {
     "name": "stdout",
     "output_type": "stream",
     "text": [
      "I love Python Programming\n",
      "Python is simple and powerful\n",
      "Python Python PythonC is hard\n",
      "5\n"
     ]
    }
   ],
   "source": [
    "# sample2.txt에 들어있는\n",
    "# \"Python\" 이라는 단어는 몇 번 등장?\n",
    "# \"Python\" 이 들어간 문장을 모두 출력\n",
    "\n",
    "python_count = 0\n",
    "\n",
    "with open(\"sample2.txt\", \"r\") as file:\n",
    "    for index, content in enumerate(file):\n",
    "        if \"Python\" in content.strip():\n",
    "            python_count += content.strip().count(\"Python\")\n",
    "            print(content.strip())\n",
    "    print(python_count)"
   ]
  },
  {
   "cell_type": "code",
   "execution_count": 36,
   "id": "e0102f5f-7f20-4857-ac52-83a0f45469b8",
   "metadata": {},
   "outputs": [
    {
     "name": "stdout",
     "output_type": "stream",
     "text": [
      "['나예호', '20', 'ENTJ']\n",
      "나예호-20-ENTJ\n",
      "나예호,21,ENTJ\n"
     ]
    }
   ],
   "source": [
    "# split(), join()\n",
    "# 3 5\n",
    "str3 = \"Python is fun\"\n",
    "str3.split()\n",
    "str4 = \"<name>나예호</name><age>20</age>\"\n",
    "str5 = \"나예호,20,ENTJ\"\n",
    "list2 = str5.split(\",\")\n",
    "str4.split(\"/\")\n",
    "print(list2)\n",
    "\n",
    "# join()\n",
    "str6 = \"-\".join(list2)\n",
    "print(str6)\n",
    "\n",
    "# split(구분자)를 통해\n",
    "# 문자열을 구분자로 분리하여 list 형태로 변환\n",
    "# 이렇게 분리된 list을 join (연결자)를 활용하여 \n",
    "# 다시 문자열로 변환 가능\n",
    "\n",
    "# 문자열.replace(old string, new string)\n",
    "str7 = str5.replace(\"20\", \"21\")\n",
    "print(str7)"
   ]
  },
  {
   "cell_type": "code",
   "execution_count": 46,
   "id": "2409cca4-107b-45b1-ab48-9ecd72327ab6",
   "metadata": {},
   "outputs": [
    {
     "name": "stdout",
     "output_type": "stream",
     "text": [
      "A\n",
      "65\n",
      "A\n",
      "Hello World!\n",
      "HELLO WORLD!\n",
      "hello world!\n"
     ]
    }
   ],
   "source": [
    "# 대소문자 변환 함수 upper lower\n",
    "\n",
    "str8 = \"Hello World!\"\n",
    "# hello world!\n",
    "# HELLO WORLD!\n",
    "\n",
    "# H의 아스키 코드\n",
    "\n",
    "# A의 아스키 코드 : 65\n",
    "# a의 아스키 코드 : 97\n",
    "# 0의 아스키 코드 : 48\n",
    "\n",
    "print(\"A\")\n",
    "print(ord(\"A\")) # 해당 문자의 아스키 코드 출력!\n",
    "print(chr(65)) # 정수를 문자로 출력\n",
    "\n",
    "print(str8)\n",
    "# A : 65, Z : 90\n",
    "# a : 97, z : 122\n",
    "for s in str8:\n",
    "    # 전부 대문자로 출력\n",
    "    if 97 <= ord(s) <= 122:\n",
    "        print(chr(ord(s) - 32), end=\"\")\n",
    "    else:\n",
    "        print(s, end=\"\")\n",
    "\n",
    "print()\n",
    "# 전부 소문자로 출력\n",
    "for s in str8:\n",
    "    if 65 <= ord(s) <= 90:\n",
    "        print(chr(ord(s) + 32), end=\"\")\n",
    "    else:\n",
    "        print(s, end=\"\")\n",
    "\n",
    "print()\n"
   ]
  },
  {
   "cell_type": "code",
   "execution_count": 49,
   "id": "f951ff71-1296-41c2-a48f-e39974b2aaa8",
   "metadata": {},
   "outputs": [
    {
     "name": "stdout",
     "output_type": "stream",
     "text": [
      "Hello World!\n",
      "HELLO WORLD!\n",
      "hello world!\n"
     ]
    },
    {
     "data": {
      "text/plain": [
       "4"
      ]
     },
     "execution_count": 49,
     "metadata": {},
     "output_type": "execute_result"
    }
   ],
   "source": [
    "print(str8)\n",
    "print(str8.upper())\n",
    "print(str8.lower())\n",
    "\n",
    "str8.find(\"o\") # 해당 문자열이 나타나는 가장 첫번째 인덱스 반환"
   ]
  },
  {
   "cell_type": "code",
   "execution_count": 53,
   "id": "cf204e4a-e032-4e21-ab06-1e927dab080e",
   "metadata": {},
   "outputs": [
    {
     "name": "stdin",
     "output_type": "stream",
     "text": [
      "자연수를 입력 : ㅁ\n"
     ]
    },
    {
     "name": "stdout",
     "output_type": "stream",
     "text": [
      "자연수를 입력해주세요\n"
     ]
    }
   ],
   "source": [
    "# 예외 처리\n",
    "# 코드 작성 시 발생할 수 있는 예기치 않은 상황에 대해\n",
    "# 개발자가 처리함으로써\n",
    "# 코드의 안정성과 신뢰성을 높이는 문법\n",
    "\n",
    "# try : 오류가 발생할 수있는 코드\n",
    "# except : 오류를 처리하는 코드\n",
    "# finally : 반드시 실행되어야 하는 코드\n",
    "\n",
    "\n",
    "\n",
    "try:\n",
    "    number = int(input(\"자연수를 입력 :\"))\n",
    "    result = 10 / number\n",
    "    print(f\"10에서 나눈 값 : {result}\")\n",
    "\n",
    "except ZeroDivisionError:\n",
    "    print(\"0으로 나눌 수 없습니다\")\n",
    "except ValueError:\n",
    "    print(\"자연수를 입력해주세요\")\n",
    "finally:\n",
    "    # 예외 상황 발생하든 하지 않든 실행\n",
    "    print(\"프로그램 종\")\n"
   ]
  },
  {
   "cell_type": "code",
   "execution_count": null,
   "id": "f45ae5a5-b0c0-4520-900e-88b7ab3ad790",
   "metadata": {},
   "outputs": [],
   "source": [
    "# 파일 관련된 예외 처리"
   ]
  },
  {
   "cell_type": "code",
   "execution_count": 54,
   "id": "7cff10dd-c29b-4e10-8937-6d568ff1ec44",
   "metadata": {},
   "outputs": [
    {
     "name": "stdout",
     "output_type": "stream",
     "text": [
      "파일을 찾을 수 없습니다\n"
     ]
    }
   ],
   "source": [
    "try:\n",
    "    with open(\"non_exist_file.txt\", \"r\") as file:\n",
    "        content = file.read()\n",
    "        print(content)\n",
    "except FileNotFoundError:\n",
    "    print(\"파일을 찾을 수 없습니다\")"
   ]
  },
  {
   "cell_type": "code",
   "execution_count": 56,
   "id": "461ac8b2-d142-4f5a-998e-d0b0d11e194f",
   "metadata": {},
   "outputs": [
    {
     "name": "stdout",
     "output_type": "stream",
     "text": [
      "인덱스를 잘못 입력하셨습니다\n"
     ]
    }
   ],
   "source": [
    "try:\n",
    "    array = [1, 2, 3, 4]\n",
    "    array[4]\n",
    "except IndexError:\n",
    "    print(\"인덱스를 잘못 입력하셨습니다\")"
   ]
  },
  {
   "cell_type": "code",
   "execution_count": 62,
   "id": "1522ed71-2766-4bae-9387-4ec0ed043f27",
   "metadata": {},
   "outputs": [
    {
     "name": "stdout",
     "output_type": "stream",
     "text": [
      "현재 작업 디렉터리 : C:\\Users\\kccistc\\Desktop\\workspace\n",
      "['.ipynb_checkpoints', 'Cal.ipynb', 'Cal.py', 'day1.ipynb', 'day2.ipynb', 'day3.ipynb', 'day4.ipynb', 'day5.ipynb', 'exam.txt', 'new_folder', 'number.txt', 'sample.txt', 'sample2.txt', 'test.txt', 'test2.txt', '__pycache__']\n",
      "['.ipynb_checkpoints', 'Cal.ipynb', 'Cal.py', 'day1.ipynb', 'day2.ipynb', 'day3.ipynb', 'day4.ipynb', 'day5.ipynb', 'exam.txt', 'number.txt', 'sample.txt', 'sample2.txt', 'test.txt', 'test2.txt', '__pycache__']\n"
     ]
    }
   ],
   "source": [
    "# OS(Operating System)\n",
    "import os\n",
    "\n",
    "# 현재의 위치를 출력하는\n",
    "# get current working directory\n",
    "print(f\"현재 작업 디렉터리 : {os.getcwd()}\")\n",
    "\n",
    "# 새로운 디렉터리 만드는\n",
    "# make directory\n",
    "# os.mkdir(\"new_folder\")\n",
    "\n",
    "\n",
    "# 현재 디렉터리 내에\n",
    "# 파일 및 디렉터리 정보 출력\n",
    "print(os.listdir())\n",
    "\n",
    "# 디렉터리 삭제\n",
    "# remove directory\n",
    "os.rmdir(\"new_folder\")\n",
    "\n",
    "print(os.listdir())"
   ]
  },
  {
   "cell_type": "code",
   "execution_count": 66,
   "id": "6e9c12b7-fbb5-4591-b40f-b48f712bbd38",
   "metadata": {},
   "outputs": [],
   "source": [
    "# new라는 폴더 만들고\n",
    "# new라는 폴더 내에 \n",
    "# test.txt 만들어서\n",
    "# \"Hello World!!\"라는 문구 기입\n",
    "\n",
    "os.mkdir(\"new\")\n",
    "with open(\"new/test.txt\", \"w\") as file:\n",
    "    file.write(\"Hello World!\\n\")"
   ]
  },
  {
   "cell_type": "code",
   "execution_count": null,
   "id": "464f70cd-9438-45db-81d1-7c2698ff1761",
   "metadata": {},
   "outputs": [],
   "source": [
    "# rmdir 은 빈 폴더만 삭제 가능"
   ]
  },
  {
   "cell_type": "code",
   "execution_count": 68,
   "id": "3fc5f479-c609-4457-b67c-a2affefd88d3",
   "metadata": {},
   "outputs": [
    {
     "ename": "FileNotFoundError",
     "evalue": "[WinError 2] 지정된 파일을 찾을 수 없습니다: 'new/test.txt' -> 'new/exam.txt'",
     "output_type": "error",
     "traceback": [
      "\u001b[1;31m---------------------------------------------------------------------------\u001b[0m",
      "\u001b[1;31mFileNotFoundError\u001b[0m                         Traceback (most recent call last)",
      "Cell \u001b[1;32mIn[68], line 2\u001b[0m\n\u001b[0;32m      1\u001b[0m \u001b[38;5;66;03m# 파일 및 폴더 이름 변경\u001b[39;00m\n\u001b[1;32m----> 2\u001b[0m os\u001b[38;5;241m.\u001b[39mrename(\u001b[38;5;124m\"\u001b[39m\u001b[38;5;124mnew/test.txt\u001b[39m\u001b[38;5;124m\"\u001b[39m, \u001b[38;5;124m\"\u001b[39m\u001b[38;5;124mnew/exam.txt\u001b[39m\u001b[38;5;124m\"\u001b[39m)\n",
      "\u001b[1;31mFileNotFoundError\u001b[0m: [WinError 2] 지정된 파일을 찾을 수 없습니다: 'new/test.txt' -> 'new/exam.txt'"
     ]
    }
   ],
   "source": [
    "# 파일 및 폴더 이름 변경\n",
    "os.rename(\"new/test.txt\", \"new/exam.txt\")"
   ]
  },
  {
   "cell_type": "code",
   "execution_count": 69,
   "id": "49782654-0322-468a-82d0-3524036131cc",
   "metadata": {},
   "outputs": [],
   "source": [
    "# 폴더 이름 new -> old 로 변경\n",
    "os.rename(\"new\", \"old\")"
   ]
  },
  {
   "cell_type": "code",
   "execution_count": 74,
   "id": "4cfbce31-ceb9-4518-9741-3d7c37503cb6",
   "metadata": {},
   "outputs": [
    {
     "name": "stdout",
     "output_type": "stream",
     "text": [
      "폴더가 이미 존재합니다\n"
     ]
    }
   ],
   "source": [
    "# 폴더 여부에 따라 \n",
    "# 없으면 생성! 있으면 \"이미 존재합니다\" 출력\n",
    "if not os.path.exists(\"pokemon\"):\n",
    "    os.mkdir(\"pokemon\")\n",
    "    print(\"pokemon 폴더 생성 완료\")\n",
    "else:\n",
    "    print(\"폴더가 이미 존재합니다\")"
   ]
  },
  {
   "cell_type": "code",
   "execution_count": 75,
   "id": "ec2d4df5-3091-40d6-b81a-61daa0173a12",
   "metadata": {},
   "outputs": [
    {
     "name": "stdout",
     "output_type": "stream",
     "text": [
      "old\\exam.txt\n"
     ]
    }
   ],
   "source": [
    "# OS : windows\n",
    "# Mac, Linux\n",
    "# 경로를 결합하는 다른 방식\n",
    "# \\\\, \\, /\n",
    "# OS에 맞춰서 경로를 결합\n",
    "exam_path = os.path.join(\"old\", \"exam.txt\")\n",
    "print(exam_path)"
   ]
  },
  {
   "cell_type": "code",
   "execution_count": null,
   "id": "84362b05-72f7-4e8e-ab81-6bb56a5ddf6c",
   "metadata": {},
   "outputs": [],
   "source": [
    "print(os.listdir(\"old\")) # old 폴더 내 목록 출력"
   ]
  },
  {
   "cell_type": "code",
   "execution_count": 76,
   "id": "35d84866-7cd6-4f73-b316-bf1dc11252f4",
   "metadata": {},
   "outputs": [
    {
     "name": "stdout",
     "output_type": "stream",
     "text": [
      "폴더 생성 완료\n",
      "['test.txt']\n"
     ]
    }
   ],
   "source": [
    "# os 연습\n",
    "# 1. pratice_folder가 존재하지 않는다면 만들고\n",
    "# \"폴더 생성 완료\" 출력\n",
    "# 존재한다면 \"폴더가 이미 있습니다\" 출력\n",
    "\n",
    "# 2. pratice_folder 내에 \n",
    "# 새로운 test.txt 파일 만들고 \n",
    "# 다음의 내용 입력\n",
    "# \"Python 자동화 스크립트 수업 연습\"\n",
    "\n",
    "# 3. pratice_folder 내 파일 목록 출력\n",
    "\n",
    "if not os.path.exists(\"pratice_folder\"):\n",
    "    os.mkdir(\"pratice_folder\")\n",
    "    print(\"폴더 생성 완료\")\n",
    "else:\n",
    "    print(\"폴더가 이미 있습니다\")\n",
    "\n",
    "with open(\"pratice_folder/test.txt\", \"w\") as file:\n",
    "    file.write(\"Python 자동화 스크립트 수업 연습\\n\")\n",
    "\n",
    "print(os.listdir(\"pratice_folder\"))"
   ]
  },
  {
   "cell_type": "code",
   "execution_count": 77,
   "id": "c72830ba-fe91-46b6-8014-e9ece8d7568a",
   "metadata": {},
   "outputs": [
    {
     "name": "stdout",
     "output_type": "stream",
     "text": [
      "['exam.txt']\n"
     ]
    }
   ],
   "source": [
    "# 4. practice_folder 이름을\n",
    "# exam_folder로 수정\n",
    "\n",
    "# 5. test.txt 파일 이름을\n",
    "# exam.txt로 수정\n",
    "\n",
    "# 6. exam_folder 내 파일 목록 출력\n",
    "\n",
    "os.rename(\"pratice_folder\", \"exam_folder\")\n",
    "os.rename(\"exam_folder/test.txt\", \"exam_folder/exam.txt\")\n",
    "print(os.listdir(\"exam_folder\"))"
   ]
  },
  {
   "cell_type": "code",
   "execution_count": 83,
   "id": "8fd2173e-b4b5-4bd8-a17b-3a5880c6fbb5",
   "metadata": {},
   "outputs": [
    {
     "name": "stdout",
     "output_type": "stream",
     "text": [
      "C:\\Users\\kccistc\\Desktop\\workspace\n"
     ]
    },
    {
     "data": {
      "text/plain": [
       "'exam_folder/sample_copy.txt'"
      ]
     },
     "execution_count": 83,
     "metadata": {},
     "output_type": "execute_result"
    }
   ],
   "source": [
    "# Shell Utilites\n",
    "import shutil\n",
    "print(os.getcwd())\n",
    "# shutil.copy(복사 대상, 복사 할 곳)\n",
    "shutil.copy(\"sample.txt\", \"exam_folder/sample_copy.txt\")"
   ]
  },
  {
   "cell_type": "code",
   "execution_count": 84,
   "id": "5685b6af-8150-4b64-a576-84968c63aca4",
   "metadata": {},
   "outputs": [
    {
     "data": {
      "text/plain": [
       "'exam_folder/sample2.txt'"
      ]
     },
     "execution_count": 84,
     "metadata": {},
     "output_type": "execute_result"
    }
   ],
   "source": [
    "# 현 위치에 있는 sample2.txt를\n",
    "# exam_folder내로 이동\n",
    "shutil.move(\"sample2.txt\", \"exam_folder/sample2.txt\")"
   ]
  },
  {
   "cell_type": "code",
   "execution_count": 98,
   "id": "15dfcc04-09b6-422e-bd8f-4d79a22697f9",
   "metadata": {},
   "outputs": [],
   "source": [
    "# 파일 및 폴더 삭제\n",
    "if not os.path.exists(\"kpop\"):\n",
    "    os.mkdir(\"kpop\")\n",
    "else:\n",
    "    print(\"이미 존재합니다\")\n",
    "\n",
    "if not os.path.exists(\"kpop/demon.txt\"):\n",
    "    with open(\"kpop/demon.txt\", \"w\") as file:\n",
    "        file.write(\"Hello\\n\")\n",
    "\n",
    "else:\n",
    "    print(\"demon.txt이 이미 존재합니다\")\n",
    "\n",
    "if not os.path.exists(\"kpop/demon2.txt\"):\n",
    "    with open(\"kpop/demon2.txt\", \"w\") as file:\n",
    "        file.write(\"Hello\\n\")\n",
    "\n",
    "else:\n",
    "    print(\"demon2.txt이 이미 존재합니다\")"
   ]
  },
  {
   "cell_type": "code",
   "execution_count": 97,
   "id": "d98aa18b-046c-4eaa-a372-890192ca9a6b",
   "metadata": {},
   "outputs": [],
   "source": [
    "# 폴더를 지우는 첫 번째 방법\n",
    "# 해당 폴더 내 모든 파일을 삭제하고\n",
    "# 폴더 자체를 삭제\n",
    "file_names = os.listdir(\"kpop\")\n",
    "for file in file_names:\n",
    "    os.remove(f\"kpop/{file}\")\n",
    "\n",
    "os.rmdir(\"kpop\")\n"
   ]
  },
  {
   "cell_type": "code",
   "execution_count": 99,
   "id": "9fb7bd2d-1847-40d3-a951-e80803e5b33e",
   "metadata": {},
   "outputs": [
    {
     "data": {
      "text/plain": [
       "['.ipynb_checkpoints',\n",
       " 'Cal.ipynb',\n",
       " 'Cal.py',\n",
       " 'day1.ipynb',\n",
       " 'day2.ipynb',\n",
       " 'day3.ipynb',\n",
       " 'day4.ipynb',\n",
       " 'day5.ipynb',\n",
       " 'exam.txt',\n",
       " 'exam_folder',\n",
       " 'number.txt',\n",
       " 'old',\n",
       " 'pokemon',\n",
       " 'sample.txt',\n",
       " 'sample_copy.txt',\n",
       " 'test.txt',\n",
       " 'test2.txt',\n",
       " '__pycache__']"
      ]
     },
     "execution_count": 99,
     "metadata": {},
     "output_type": "execute_result"
    }
   ],
   "source": [
    "# 폴더를 지우는 두 번째 방법\n",
    "# shutil 안에 강력한 삭제 기능 호출\n",
    "shutil.rmtree(\"kpop\")\n",
    "os.listdir()"
   ]
  },
  {
   "cell_type": "code",
   "execution_count": 103,
   "id": "6c1a0b3b-70a8-4674-ae67-ade18a5bf503",
   "metadata": {},
   "outputs": [
    {
     "name": "stdout",
     "output_type": "stream",
     "text": [
      "['Cal.ipynb', 'Cal.py', 'day1.ipynb', 'day2.ipynb', 'day3.ipynb', 'day4.ipynb', 'day5.ipynb', 'exam.txt', 'exam_folder', 'number.txt', 'old', 'pokemon', 'sample.txt', 'sample_copy.txt', 'test.txt', 'test2.txt', '__pycache__']\n",
      "['exam.txt', 'number.txt', 'sample.txt', 'sample_copy.txt', 'test.txt', 'test2.txt']\n",
      "['number.txt', 'sample.txt']\n",
      "['sample.txt', 'sample_copy.txt']\n",
      "['test2.txt']\n"
     ]
    }
   ],
   "source": [
    "# glob\n",
    "import glob\n",
    "# 현재 디렉터리의 모든 파일명 찾기\n",
    "all_files = glob.glob(\"*\")\n",
    "print(all_files)\n",
    "\n",
    "all_texts = glob.glob(\"*.txt\")\n",
    "print(all_texts)\n",
    "\n",
    "find_text_6_letter = glob.glob(\"??????.txt\")\n",
    "print(find_text_6_letter)\n",
    "\n",
    "find_text_s_start = glob.glob(\"[s]*.txt\")\n",
    "# [s]?????.txt -> s로 시작하는 6글자\n",
    "# [st]*.txt -> s 혹은 t 로 시작하는\n",
    "print(find_text_s_start)\n",
    "\n",
    "find_contain_number = glob.glob(\"*[0-9]*.txt\")\n",
    "print(find_contain_number)"
   ]
  },
  {
   "cell_type": "code",
   "execution_count": 106,
   "id": "b2dfa941-1cc5-408f-a947-7ee4d5491989",
   "metadata": {},
   "outputs": [
    {
     "name": "stdout",
     "output_type": "stream",
     "text": [
      "['exam.txt', 'number.txt', 'sample.txt', 'sample_copy.txt', 'test.txt', 'test2.txt', 'exam_folder\\\\exam.txt', 'exam_folder\\\\sample2.txt', 'exam_folder\\\\sample_copy.txt', 'old\\\\exam.txt']\n"
     ]
    }
   ],
   "source": [
    "# 하위 경로까지 검색!!\n",
    "# 재귀 검색(recursive=True 필수)\n",
    "# 맨 앞에  **/\n",
    "# 불필요한 검색을 방지하고자 기본 값은 False로 되어 있음.\n",
    "find_sub_all_text = glob.glob(\"**/*.txt\", recursive=True)\n",
    "print(find_sub_all_text)"
   ]
  },
  {
   "cell_type": "code",
   "execution_count": 107,
   "id": "8104c119-53f4-4048-b757-eb7212edd33c",
   "metadata": {},
   "outputs": [],
   "source": [
    "# 1. CSV\n",
    "# comma sperated value\n",
    "# 컴마로 나누어진 값\n",
    "# 대량의 데이터를 다룰 때 용이\n",
    "\n",
    "import csv\n",
    "\n",
    "# 수학 행렬(matrix)\n",
    "# 가로 행(row), 세로 열(column)\n",
    "# 행운의 열쇠\n",
    "\n",
    "# csv 파일을 쓰기\n",
    "with open(\"output.csv\", \"w\") as file:\n",
    "    writer = csv.writer(file)\n",
    "    writer.writerow([\"Name\", \"Age\", \"Mbti\"])\n",
    "    writer.writerow([\"나예호\", 20, \"ENFJ\"])\n",
    "    writer.writerow([\"수지\", 30, \"INTJ\"])"
   ]
  },
  {
   "cell_type": "code",
   "execution_count": 108,
   "id": "403fe87b-5904-4d11-8ea3-8871b4e89690",
   "metadata": {},
   "outputs": [],
   "source": [
    "# dictionary 활용 해 csv 쓰기\n",
    "\n",
    "dic_header = [\"이름\", \"나이\", \"mbti\"]\n",
    "dic1 = {\"이름\":\"정예찬\", \"나이\":26, \"mbti\":\"ESFJ\"}\n",
    "dic2 = {\"이름\":\"수지\", \"나이\":30, \"mbti\":\"INFP\"}\n",
    "dic3 = {\"이름\":\"아이유\", \"나이\":32, \"mbti\":\"INFP\"}"
   ]
  },
  {
   "cell_type": "code",
   "execution_count": 109,
   "id": "9ade0406-d1ec-40db-8bcd-dc47804bfb4b",
   "metadata": {},
   "outputs": [],
   "source": [
    "with open(\"member.csv\", \"w\", newline=\"\") as file:\n",
    "    writer = csv.DictWriter(file, fieldnames=dic_header)\n",
    "\n",
    "    writer.writeheader() # 위 fieldnames에서 지정한 헤더 쓰기\n",
    "    writer.writerow(dic1)\n",
    "    writer.writerow(dic2)\n",
    "    writer.writerow(dic3)"
   ]
  },
  {
   "cell_type": "code",
   "execution_count": 110,
   "id": "4219891c-2a44-4bb5-9e99-2ddf393f666a",
   "metadata": {},
   "outputs": [
    {
     "name": "stdout",
     "output_type": "stream",
     "text": [
      "['이름', '나이', 'mbti']\n",
      "['정예찬', '26', 'ESFJ']\n",
      "['수지', '30', 'INFP']\n",
      "['아이유', '32', 'INFP']\n"
     ]
    }
   ],
   "source": [
    "with open(\"member.csv\", \"r\") as file:\n",
    "    reader = csv.reader(file)\n",
    "    for r in reader:\n",
    "        print(r)"
   ]
  },
  {
   "cell_type": "code",
   "execution_count": 114,
   "id": "bab37648-4e86-40c0-8e00-aa46114f7100",
   "metadata": {},
   "outputs": [
    {
     "name": "stdout",
     "output_type": "stream",
     "text": [
      "나이 평균 :  26.00세\n",
      "나이 평균 :  28.00세\n",
      "나이 평균 :  29.33세\n"
     ]
    }
   ],
   "source": [
    "# Dictionary 타입으로 읽기\n",
    "\n",
    "with open(\"member.csv\", \"r\") as file:\n",
    "    reader = csv.DictReader(file)\n",
    "    # for r in reader:\n",
    "    #     print(r)\n",
    "    result = 0\n",
    "    count = 0\n",
    "\n",
    "    for r in reader:\n",
    "        result += int(r[\"나이\"])\n",
    "        count += 1 \n",
    "\n",
    "        print(f\"나이 평균 : {result / count : .2f}세\")\n",
    "\n",
    "# 현재 3개의 데이터 뿐이지만\n",
    "# 모든 member의 나이 평균 구하기"
   ]
  },
  {
   "cell_type": "code",
   "execution_count": 116,
   "id": "43c0bd1a-bd65-4400-aea7-21ac9ba0bab8",
   "metadata": {},
   "outputs": [
    {
     "name": "stderr",
     "output_type": "stream",
     "text": [
      "  % Total    % Received % Xferd  Average Speed   Time    Time     Time  Current\n",
      "                                 Dload  Upload   Total   Spent    Left  Speed\n",
      "\n",
      "  0     0    0     0    0     0      0      0 --:--:-- --:--:-- --:--:--     0\n",
      "  0     0    0     0    0     0      0      0 --:--:-- --:--:-- --:--:--     0\n",
      "\n",
      "100 61194  100 61194    0     0   511k      0 --:--:-- --:--:-- --:--:--  511k\n"
     ]
    }
   ],
   "source": [
    "!curl -L https://github.com/nayeho/harman2/raw/refs/heads/main/train.csv -o train.csv"
   ]
  },
  {
   "cell_type": "code",
   "execution_count": 130,
   "id": "3ec6628f-9c99-45a9-8cc3-2617515d2d8e",
   "metadata": {},
   "outputs": [
    {
     "name": "stdout",
     "output_type": "stream",
     "text": [
      "생존한 남성의 수 : 109명\n",
      "생존한 여성의 수 : 233명\n",
      "사망한 남성의 수 : 468명\n",
      "사망한 여성의 수 : 81명\n",
      "남성의 생존 확률 :  18.89%\n",
      "여성의 생존 확률 :  74.20%\n"
     ]
    }
   ],
   "source": [
    "# 생존한 여성의 수 : ??명\n",
    "# 생존한 남성의 수 : ??명\n",
    "# 사망한 여성의 수 : ??명\n",
    "# 사망한 남성의 수 : ??명\n",
    "\n",
    "with open(\"train.csv\", \"r\") as file:\n",
    "    reader = csv.DictReader(file)\n",
    "    count = 0\n",
    "\n",
    "    count_survived_male = 0\n",
    "    count_survived_female = 0\n",
    "    count_passed_male = 0\n",
    "    count_passed_female = 0\n",
    "\n",
    "    for r in reader:\n",
    "        if int(r[\"Survived\"]) == 1:\n",
    "            if r[\"Sex\"] == \"male\":\n",
    "                count_survived_male += 1\n",
    "            else:\n",
    "                count_survived_female += 1\n",
    "        if int(r[\"Survived\"]) == 0:\n",
    "            if r[\"Sex\"] == \"male\":\n",
    "                count_passed_male += 1\n",
    "            else:\n",
    "                count_passed_female += 1\n",
    "                \n",
    "    print(f\"생존한 남성의 수 : {count_survived_male}명\")\n",
    "    print(f\"생존한 여성의 수 : {count_survived_female}명\")\n",
    "    print(f\"사망한 남성의 수 : {count_passed_male}명\")\n",
    "    print(f\"사망한 여성의 수 : {count_passed_female}명\")\n",
    "\n",
    "    print(f\"남성의 생존 확률 : {count_survived_male / (count_survived_male + count_passed_male) * 100 : .2f}%\")\n",
    "    print(f\"여성의 생존 확률 : {count_survived_female / (count_survived_female + count_passed_female) * 100 : .2f}%\")\n",
    "    "
   ]
  },
  {
   "cell_type": "code",
   "execution_count": 119,
   "id": "16a8f7d2-36c4-46ea-b800-7e581650ed52",
   "metadata": {},
   "outputs": [
    {
     "name": "stdout",
     "output_type": "stream",
     "text": [
      "['PassengerId', 'Survived', 'Pclass', 'Name', 'Sex', 'Age', 'SibSp', 'Parch', 'Ticket', 'Fare', 'Cabin', 'Embarked']\n",
      "생존 : 342명\n",
      "사망 : 549명\n"
     ]
    }
   ],
   "source": [
    "with open(\"train.csv\", \"r\") as file:\n",
    "    reader = csv.DictReader(file)\n",
    "    count = 0\n",
    "\n",
    "    print(reader.fieldnames)\n",
    "\n",
    "    # 생존 수 \n",
    "    # 사망자 수\n",
    "    count_survived = 0\n",
    "    count_passed = 0\n",
    "    \n",
    "    for r in reader:\n",
    "        if int(r[\"Survived\"]) == 1:\n",
    "            count_survived += 1\n",
    "        elif int(r[\"Survived\"]) == 0:\n",
    "            count_passed += 1\n",
    "    print(f\"생존 : {count_survived}명\")\n",
    "    print(f\"사망 : {count_passed}명\")"
   ]
  },
  {
   "cell_type": "code",
   "execution_count": null,
   "id": "a9509b10-2665-4bef-b242-4d24da35f81a",
   "metadata": {},
   "outputs": [],
   "source": [
    "# JSON (Java Script Object Notation)\n",
    "\n",
    "# 영화 진흥 위원회 API를 통해 \n",
    "# 2025년 7월 6일 JSON을 가져오자\n",
    "\n"
   ]
  },
  {
   "cell_type": "code",
   "execution_count": 131,
   "id": "bb609bd9-c0ed-4b8f-8cde-cf3fc8af7b3b",
   "metadata": {},
   "outputs": [
    {
     "name": "stderr",
     "output_type": "stream",
     "text": [
      "  % Total    % Received % Xferd  Average Speed   Time    Time     Time  Current\n",
      "                                 Dload  Upload   Total   Spent    Left  Speed\n",
      "\n",
      "  0     0    0     0    0     0      0      0 --:--:-- --:--:-- --:--:--     0\n",
      "  0     0    0     0    0     0      0      0 --:--:-- --:--:-- --:--:--     0\n",
      "\n",
      "100  3691  100  3691    0     0  15323      0 --:--:-- --:--:-- --:--:-- 15323\n",
      "Warning: Got more output options than URLs\n"
     ]
    }
   ],
   "source": [
    "!curl -L https://github.com/nayeho/harman2/raw/refs/heads/main/movie.json -o movie.json -o movie.json"
   ]
  },
  {
   "cell_type": "code",
   "execution_count": 142,
   "id": "8ae1726a-8541-4272-85c5-b87fab2b6be2",
   "metadata": {},
   "outputs": [
    {
     "name": "stdout",
     "output_type": "stream",
     "text": [
      "1위 : 쥬라기 월드: 새로운 시작\n"
     ]
    }
   ],
   "source": [
    "import json\n",
    "\n",
    "data = \"\"\n",
    "with open(\"movie.json\", \"r\", encoding=\"utf-8\") as file:\n",
    "    data = json.load(file)\n",
    "\n",
    "    boxOfficeResult = data[\"boxOfficeResult\"]\n",
    "    dailyBoxOfficeList = boxOfficeResult[\"dailyBoxOfficeList\"]\n",
    "    rank = dailyBoxOfficeList[0][\"rank\"]\n",
    "    movieNm = dailyBoxOfficeList[0][\"movieNm\"]\n",
    "    print(f\"{rank}위 : {movieNm}\")\n",
    "    # print(dailyBoxOfficeList[0])\n"
   ]
  },
  {
   "cell_type": "code",
   "execution_count": 153,
   "id": "766bae72-2b74-45a5-89a7-a073274b7212",
   "metadata": {},
   "outputs": [
    {
     "name": "stdout",
     "output_type": "stream",
     "text": [
      "1위 : 쥬라기 월드: 새로운 시작(304382)명\n",
      "2위 : 노이즈(125031)명\n",
      "3위 : F1 더 무비(123391)명\n",
      "4위 : 드래곤 길들이기(39167)명\n",
      "5위 : 엘리오(29561)명\n",
      "6위 : 하이파이브(4178)명\n",
      "7위 : 미션 임파서블: 파이널 레코닝(3731)명\n",
      "8위 : 무명 無名(3322)명\n",
      "9위 : 바람계곡의 나우시카(3026)명\n",
      "10위 : 알사탕(2342)명\n",
      "총 관객 수 : 638131명\n"
     ]
    }
   ],
   "source": [
    "import json\n",
    "\n",
    "data = \"\"\n",
    "with open(\"movie.json\", \"r\", encoding=\"utf-8\") as file:\n",
    "    data = json.load(file)\n",
    "\n",
    "    boxOfficeResult = data[\"boxOfficeResult\"]\n",
    "    dailyBoxOfficeList = boxOfficeResult[\"dailyBoxOfficeList\"]\n",
    "    \n",
    "    total_audi = 0\n",
    "    for i in range(len(dailyBoxOfficeList)):\n",
    "        rank = dailyBoxOfficeList[i][\"rank\"]\n",
    "        movieNm = dailyBoxOfficeList[i][\"movieNm\"]\n",
    "        audiCnt = dailyBoxOfficeList[i][\"audiCnt\"]\n",
    "        total_audi += int(audiCnt)\n",
    "        print(f\"{rank}위 : {movieNm}({audiCnt})명\")\n",
    "    print(f\"총 관객 수 : {total_audi}명\")"
   ]
  },
  {
   "cell_type": "code",
   "execution_count": 158,
   "id": "11a14e20-0a38-4199-acd7-0d5d0e320673",
   "metadata": {},
   "outputs": [
    {
     "name": "stdin",
     "output_type": "stream",
     "text": [
      "숫자: 456\n"
     ]
    },
    {
     "name": "stdout",
     "output_type": "stream",
     "text": [
      "6\n"
     ]
    }
   ],
   "source": [
    "a = input(\"숫자:\")\n",
    "print(int(a[2]))"
   ]
  },
  {
   "cell_type": "code",
   "execution_count": null,
   "id": "e1a60aa7-b84a-4df1-99e5-bac2fd0a87b0",
   "metadata": {},
   "outputs": [],
   "source": []
  },
  {
   "cell_type": "code",
   "execution_count": null,
   "id": "9d602edd-2100-4bd1-9463-78918638a0f7",
   "metadata": {},
   "outputs": [],
   "source": []
  },
  {
   "cell_type": "code",
   "execution_count": null,
   "id": "6a61f488-a232-4a73-807e-601ff82e2168",
   "metadata": {},
   "outputs": [],
   "source": []
  },
  {
   "cell_type": "code",
   "execution_count": null,
   "id": "48fe45a9-fa12-4603-a493-acde5098243d",
   "metadata": {},
   "outputs": [],
   "source": []
  },
  {
   "cell_type": "code",
   "execution_count": null,
   "id": "141a289e-7e22-4a0a-9a21-8cfab34dc201",
   "metadata": {},
   "outputs": [],
   "source": []
  },
  {
   "cell_type": "code",
   "execution_count": null,
   "id": "849acc84-04aa-4fe6-851b-e137b3d834be",
   "metadata": {},
   "outputs": [],
   "source": []
  },
  {
   "cell_type": "code",
   "execution_count": null,
   "id": "35cce3ff-1152-4813-b754-6f0ffa801d7f",
   "metadata": {},
   "outputs": [],
   "source": []
  },
  {
   "cell_type": "code",
   "execution_count": null,
   "id": "d7fb627f-36b5-4aa8-8988-57619873c6e5",
   "metadata": {},
   "outputs": [],
   "source": []
  },
  {
   "cell_type": "code",
   "execution_count": null,
   "id": "6eb59a3a-8c9e-458a-aee0-8b29f0bb06ab",
   "metadata": {},
   "outputs": [],
   "source": []
  },
  {
   "cell_type": "code",
   "execution_count": null,
   "id": "34f6fe88-142c-499b-8229-e96c46c21b48",
   "metadata": {},
   "outputs": [],
   "source": []
  },
  {
   "cell_type": "code",
   "execution_count": null,
   "id": "7d43596d-c7b1-4204-b64d-a22f4f1ad980",
   "metadata": {},
   "outputs": [],
   "source": []
  },
  {
   "cell_type": "code",
   "execution_count": null,
   "id": "b7054870-838f-40ba-b17f-49abcbe627c7",
   "metadata": {},
   "outputs": [],
   "source": []
  },
  {
   "cell_type": "code",
   "execution_count": null,
   "id": "079b781b-ab0b-441c-8fe6-56b7cf9c1d7b",
   "metadata": {},
   "outputs": [],
   "source": []
  },
  {
   "cell_type": "code",
   "execution_count": null,
   "id": "111ee82c-5217-4567-b49f-bbf4258677ae",
   "metadata": {},
   "outputs": [],
   "source": []
  },
  {
   "cell_type": "code",
   "execution_count": null,
   "id": "1ed7b6bd-fb60-43e9-8640-abb4036273a1",
   "metadata": {},
   "outputs": [],
   "source": []
  },
  {
   "cell_type": "code",
   "execution_count": null,
   "id": "464dae6c-42dc-442d-a396-f1a41ee2fd3c",
   "metadata": {},
   "outputs": [],
   "source": []
  }
 ],
 "metadata": {
  "kernelspec": {
   "display_name": "Python 3 (ipykernel)",
   "language": "python",
   "name": "python3"
  },
  "language_info": {
   "codemirror_mode": {
    "name": "ipython",
    "version": 3
   },
   "file_extension": ".py",
   "mimetype": "text/x-python",
   "name": "python",
   "nbconvert_exporter": "python",
   "pygments_lexer": "ipython3",
   "version": "3.9.23"
  }
 },
 "nbformat": 4,
 "nbformat_minor": 5
}
