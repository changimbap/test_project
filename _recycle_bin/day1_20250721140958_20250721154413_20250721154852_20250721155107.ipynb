{
 "cells": [
  {
   "cell_type": "markdown",
   "id": "f0674258-dd6f-4d4f-94d1-73c7e38adb06",
   "metadata": {},
   "source": [
    "### 1일차 코드 뿌시기\n",
    "- 첫 번째 실습\n",
    "- 두 번째 실습"
   ]
  },
  {
   "cell_type": "code",
   "execution_count": 1,
   "id": "6cb17893-9e68-4db5-8de9-3da9a53b19a1",
   "metadata": {},
   "outputs": [],
   "source": [
    "x = 10"
   ]
  },
  {
   "cell_type": "code",
   "execution_count": 2,
   "id": "7802647f-edc2-431b-b3c0-b08e883f7a0d",
   "metadata": {},
   "outputs": [],
   "source": [
    "y = 20"
   ]
  },
  {
   "cell_type": "code",
   "execution_count": 3,
   "id": "c14165f2-5875-43a9-9d52-b76f9ceae711",
   "metadata": {},
   "outputs": [
    {
     "name": "stdout",
     "output_type": "stream",
     "text": [
      "30\n"
     ]
    }
   ],
   "source": [
    "print(x + y)"
   ]
  },
  {
   "cell_type": "code",
   "execution_count": 4,
   "id": "96fdde7f-fe3b-4b6a-bca4-140d933c1be4",
   "metadata": {},
   "outputs": [],
   "source": [
    "num = 3"
   ]
  },
  {
   "cell_type": "code",
   "execution_count": 5,
   "id": "91f08fd0-2360-4ef6-8843-2245714d5816",
   "metadata": {},
   "outputs": [
    {
     "name": "stdout",
     "output_type": "stream",
     "text": [
      "3\n"
     ]
    }
   ],
   "source": [
    "print(num)"
   ]
  },
  {
   "cell_type": "code",
   "execution_count": 7,
   "id": "6d9cca89-44db-4a78-b71a-50777e8d9267",
   "metadata": {},
   "outputs": [
    {
     "name": "stdout",
     "output_type": "stream",
     "text": [
      "3\n"
     ]
    }
   ],
   "source": [
    "# 주석(comment) : #기호와 함께 사용\n",
    "print(1+2) # 1과2를 더해서 출력하시오"
   ]
  },
  {
   "cell_type": "code",
   "execution_count": 6,
   "id": "b09d19dc-055b-4e82-859c-b42d151b405f",
   "metadata": {},
   "outputs": [
    {
     "name": "stdout",
     "output_type": "stream",
     "text": [
      "3\n",
      "5\n",
      "7\n",
      "9\n"
     ]
    }
   ],
   "source": [
    "print(1+2)\n",
    "print(2+3)\n",
    "print(3+4)\n",
    "print(4+5)"
   ]
  },
  {
   "cell_type": "code",
   "execution_count": 9,
   "id": "a167f49c-1b7f-44fe-8079-c25483af087e",
   "metadata": {},
   "outputs": [],
   "source": [
    "# 20 + 10 출력\n",
    "# 20 - 10 출력\n",
    "# 20 * 10 출력\n",
    "# 20 / 10 출력"
   ]
  },
  {
   "cell_type": "code",
   "execution_count": 13,
   "id": "561df586-1bcf-4f82-801c-43834d76369a",
   "metadata": {},
   "outputs": [
    {
     "name": "stdout",
     "output_type": "stream",
     "text": [
      "315\n",
      "285\n",
      "4500\n",
      "20.0\n"
     ]
    }
   ],
   "source": [
    "num1 = 300\n",
    "num2 = 15\n",
    "print(num1 + num2)\n",
    "print(num1 - num2)\n",
    "print(num1 * num2)\n",
    "print(num1 / num2)"
   ]
  },
  {
   "cell_type": "code",
   "execution_count": 15,
   "id": "2f9832ae-5f5a-49c4-ac6f-943e9ebc9d06",
   "metadata": {},
   "outputs": [
    {
     "name": "stdout",
     "output_type": "stream",
     "text": [
      "Hello World!\n",
      "Hello World!!\n"
     ]
    }
   ],
   "source": [
    "print(\"Hello World!\")\n",
    "hello = 'Hello World!!'\n",
    "print(hello)"
   ]
  },
  {
   "cell_type": "code",
   "execution_count": 16,
   "id": "6658d005-1b36-4909-95f2-98e924aa021d",
   "metadata": {},
   "outputs": [],
   "source": [
    "is_rainy = False\n",
    "is_friday = False\n",
    "is_go_home = False\n",
    "is_study = True"
   ]
  },
  {
   "cell_type": "code",
   "execution_count": 17,
   "id": "28851c6b-717d-438c-b7d8-a66917c92e83",
   "metadata": {},
   "outputs": [
    {
     "name": "stdout",
     "output_type": "stream",
     "text": [
      "정예찬 장준우\n"
     ]
    }
   ],
   "source": [
    "name = \"정예찬\"\n",
    "Name = '장준우'\n",
    "print(name, Name)"
   ]
  },
  {
   "cell_type": "code",
   "execution_count": 18,
   "id": "410d824a-6083-4653-9883-cebe9c9966f7",
   "metadata": {},
   "outputs": [
    {
     "name": "stdout",
     "output_type": "stream",
     "text": [
      "냉면\n"
     ]
    }
   ],
   "source": [
    "점심 = \"냉면\"\n",
    "print(점심)"
   ]
  },
  {
   "cell_type": "code",
   "execution_count": 19,
   "id": "5e4c4e65-cf94-4965-a339-d9347c7d5014",
   "metadata": {},
   "outputs": [
    {
     "name": "stdout",
     "output_type": "stream",
     "text": [
      "['False', 'None', 'True', '__peg_parser__', 'and', 'as', 'assert', 'async', 'await', 'break', 'class', 'continue', 'def', 'del', 'elif', 'else', 'except', 'finally', 'for', 'from', 'global', 'if', 'import', 'in', 'is', 'lambda', 'nonlocal', 'not', 'or', 'pass', 'raise', 'return', 'try', 'while', 'with', 'yield']\n"
     ]
    }
   ],
   "source": [
    "from keyword import kwlist\n",
    "print(kwlist)"
   ]
  },
  {
   "cell_type": "code",
   "execution_count": 22,
   "id": "a977240e-e980-41f5-a8b7-df92b8cbf104",
   "metadata": {},
   "outputs": [
    {
     "name": "stdout",
     "output_type": "stream",
     "text": [
      "0.5000001943375613\n"
     ]
    }
   ],
   "source": [
    "import math\n",
    "# import 실행 시 아무일도 일어나지 않는다\n",
    "# 정상 로딩!\n",
    "# Shift + Tab : document String\n",
    "print(math.sin(0.523599))"
   ]
  },
  {
   "cell_type": "markdown",
   "id": "b16ee9bf-152b-44bc-8c7a-d0674d70cd7c",
   "metadata": {},
   "source": [
    "### 연산자(Operator)\n",
    "- 산술 연산자\n",
    "- 지수 연산자\n",
    "- 대입 연산자\n",
    "- 관계 연산자\n",
    "- 논리 연산자\n",
    "- 삼항 연산자"
   ]
  },
  {
   "cell_type": "code",
   "execution_count": 23,
   "id": "ed6daefc-7d04-419b-b80d-a14e0d6548d9",
   "metadata": {},
   "outputs": [
    {
     "name": "stdout",
     "output_type": "stream",
     "text": [
      "17\n",
      "3\n",
      "70\n",
      "1.4285714285714286\n",
      "1\n",
      "3\n"
     ]
    }
   ],
   "source": [
    "### 산술 연산자\n",
    "num3 = 10\n",
    "num4 = 7\n",
    "print(num3 + num4)\n",
    "print(num3 - num4)\n",
    "print(num3 * num4)\n",
    "print(num3 / num4)\n",
    "print(num3 // num4)\n",
    "print(num3 % num4)"
   ]
  },
  {
   "cell_type": "code",
   "execution_count": 26,
   "id": "7a7cc3f2-9f10-4888-a36d-939580d06188",
   "metadata": {},
   "outputs": [
    {
     "name": "stdout",
     "output_type": "stream",
     "text": [
      "1024\n"
     ]
    }
   ],
   "source": [
    "### 지수 연산자 (**)\n",
    "print(2**10)"
   ]
  },
  {
   "cell_type": "code",
   "execution_count": 25,
   "id": "ac1e13b7-961f-489e-bd7f-d5809b7f4a30",
   "metadata": {},
   "outputs": [
    {
     "name": "stdout",
     "output_type": "stream",
     "text": [
      "23\n"
     ]
    }
   ],
   "source": [
    "### 대입 연산자 (=)\n",
    "# 변수명 = 값\n",
    "# 반드시 = 오른쪽이 먼저 연산이 된다!!\n",
    "# 연산자의 우선순위\n",
    "age = 20 + 1\n",
    "age = age + 1\n",
    "# 복합대입연산자\n",
    "age += 1 # age 변수 값을 호출 후 1을 더한다. 다시 age에 저장!\n",
    "# age = age + 1\n",
    "print(age)"
   ]
  },
  {
   "cell_type": "code",
   "execution_count": null,
   "id": "55940b9f-7afd-493d-9982-9ffdad586db5",
   "metadata": {},
   "outputs": [],
   "source": [
    "money = 10000\n",
    "# money에서 3000원을 뺀 후 다시 money에 저장!\n",
    "money = money - 3000\n",
    "# money -= 3000\n",
    "# 산술연산자 6개에 대입연산자 =를 붙여\n",
    "# 복합대입연산자 가능!\n",
    "# += -= *= /= //= %="
   ]
  },
  {
   "cell_type": "code",
   "execution_count": null,
   "id": "6a6600f0-2454-43c1-9358-f49c8ccead1f",
   "metadata": {},
   "outputs": [],
   "source": [
    "# 값을 출력하는 기능 : print() 함수\n",
    "# 값을 입력받는 기능 : input() 함수"
   ]
  },
  {
   "cell_type": "code",
   "execution_count": 29,
   "id": "32804f25-a2a7-412d-8e05-ba69e622acc1",
   "metadata": {},
   "outputs": [
    {
     "name": "stdin",
     "output_type": "stream",
     "text": [
      "이름을 입력하세요 : 정예찬\n"
     ]
    },
    {
     "name": "stdout",
     "output_type": "stream",
     "text": [
      "이름 : 정예찬\n"
     ]
    }
   ],
   "source": [
    "name = input(\"이름을 입력하세요 :\")\n",
    "print(\"이름 :\", name)"
   ]
  },
  {
   "cell_type": "code",
   "execution_count": 33,
   "id": "e0e76e16-a6bc-48d3-a393-b6a87f0df1ed",
   "metadata": {},
   "outputs": [
    {
     "name": "stdin",
     "output_type": "stream",
     "text": [
      "정수를 입력하세요 : 1024\n"
     ]
    },
    {
     "name": "stdout",
     "output_type": "stream",
     "text": [
      "2048\n"
     ]
    }
   ],
   "source": [
    "# 정수를 입력 받아 2를 곱한 후 출력!\n",
    "# input을 통해 입력 받은 값은!! 문자열이다..!!\n",
    "# 문자열 * 정수 -> 문자열을 정수만큼 반복\n",
    "num6 = int(input(\"정수를 입력하세요 :\"))\n",
    "# 문자열인 num6를 정수로 변환(casting)\n",
    "# int(문자열)  -> 정수가 된다!\n",
    "print(num6 * 2)"
   ]
  },
  {
   "cell_type": "code",
   "execution_count": 35,
   "id": "3c3b337d-fe5c-44d3-abf8-fbb6c3c93958",
   "metadata": {},
   "outputs": [
    {
     "name": "stdin",
     "output_type": "stream",
     "text": [
      "초를 입력하세요 : 7533\n"
     ]
    },
    {
     "name": "stdout",
     "output_type": "stream",
     "text": [
      "2 시간 5 분 33 초\n"
     ]
    }
   ],
   "source": [
    "# 초를 입력 받아\n",
    "# 시, 분, 초로 환산하는 프로그램\n",
    "# 7533초 -> 2시간 5분 33초\n",
    "total = int(input(\"초를 입력하세요 :\"))\n",
    "# total로부터 hour, minute, second를 연산!!\n",
    "hour = 2\n",
    "minute = 5\n",
    "second = 33\n",
    "print(hour, \"시간\", minute, \"분\", second, \"초\")"
   ]
  },
  {
   "cell_type": "code",
   "execution_count": null,
   "id": "7476d71d-78e6-4cdd-ad7e-7a8a4bf2c416",
   "metadata": {},
   "outputs": [],
   "source": [
    "# 변수의 대입\n",
    "# 변수명 = 값\n",
    "# 변수의 선언 : 변수의 이름을 짓는 부분!!\n",
    "# 변수의 할당 : 값을 변수에 대입!!\n",
    "# 할당 중 최초 대입하는 과정 -> 초기화\n",
    "# 두 번째 할당 -> 재할당!!\n",
    "num5 = 10\n"
   ]
  }
 ],
 "metadata": {
  "kernelspec": {
   "display_name": "Python 3 (ipykernel)",
   "language": "python",
   "name": "python3"
  },
  "language_info": {
   "codemirror_mode": {
    "name": "ipython",
    "version": 3
   },
   "file_extension": ".py",
   "mimetype": "text/x-python",
   "name": "python",
   "nbconvert_exporter": "python",
   "pygments_lexer": "ipython3",
   "version": "3.9.23"
  }
 },
 "nbformat": 4,
 "nbformat_minor": 5
}
